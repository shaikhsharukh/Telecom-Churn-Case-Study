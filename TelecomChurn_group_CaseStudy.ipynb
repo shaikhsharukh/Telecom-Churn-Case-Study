{
  "nbformat": 4,
  "nbformat_minor": 0,
  "metadata": {
    "colab": {
      "name": "TelecomChurn_group_CaseStudy.ipynb",
      "provenance": [],
      "collapsed_sections": [],
      "toc_visible": true
    },
    "kernelspec": {
      "name": "python3",
      "display_name": "Python 3"
    }
  },
  "cells": [
    {
      "cell_type": "markdown",
      "metadata": {
        "id": "MDKojbgbWVV2"
      },
      "source": [
        "#Data loading and understanding"
      ]
    },
    {
      "cell_type": "markdown",
      "metadata": {
        "id": "lQxUQnoe36-t"
      },
      "source": [
        "Import libraries"
      ]
    },
    {
      "cell_type": "code",
      "metadata": {
        "id": "Xc9yKu_z3fFi",
        "colab": {
          "base_uri": "https://localhost:8080/"
        },
        "outputId": "6d0e15ad-efc6-444b-8ce7-3a65cd728283"
      },
      "source": [
        "# Ignoring warning messages\n",
        "import warnings\n",
        "warnings.filterwarnings('ignore')\n",
        "\n",
        "# Import the required library\n",
        "import numpy as np\n",
        "import pandas as pd\n",
        "import matplotlib.pyplot as plt\n",
        "import seaborn as sns\n",
        "\n",
        "from google.colab import drive\n",
        "drive.mount('/content/drive')"
      ],
      "execution_count": 1,
      "outputs": [
        {
          "output_type": "stream",
          "text": [
            "Mounted at /content/drive\n"
          ],
          "name": "stdout"
        }
      ]
    },
    {
      "cell_type": "code",
      "metadata": {
        "colab": {
          "base_uri": "https://localhost:8080/",
          "height": 253
        },
        "id": "iZM6CkO1jfve",
        "outputId": "3ff0460a-68c8-44fc-cdf7-a23e8f278b84"
      },
      "source": [
        "df=pd.read_csv('/content/drive/My Drive/telecom_churn_data.csv')\n",
        "df.head()"
      ],
      "execution_count": 2,
      "outputs": [
        {
          "output_type": "execute_result",
          "data": {
            "text/html": [
              "<div>\n",
              "<style scoped>\n",
              "    .dataframe tbody tr th:only-of-type {\n",
              "        vertical-align: middle;\n",
              "    }\n",
              "\n",
              "    .dataframe tbody tr th {\n",
              "        vertical-align: top;\n",
              "    }\n",
              "\n",
              "    .dataframe thead th {\n",
              "        text-align: right;\n",
              "    }\n",
              "</style>\n",
              "<table border=\"1\" class=\"dataframe\">\n",
              "  <thead>\n",
              "    <tr style=\"text-align: right;\">\n",
              "      <th></th>\n",
              "      <th>mobile_number</th>\n",
              "      <th>circle_id</th>\n",
              "      <th>loc_og_t2o_mou</th>\n",
              "      <th>std_og_t2o_mou</th>\n",
              "      <th>loc_ic_t2o_mou</th>\n",
              "      <th>last_date_of_month_6</th>\n",
              "      <th>last_date_of_month_7</th>\n",
              "      <th>last_date_of_month_8</th>\n",
              "      <th>last_date_of_month_9</th>\n",
              "      <th>arpu_6</th>\n",
              "      <th>arpu_7</th>\n",
              "      <th>arpu_8</th>\n",
              "      <th>arpu_9</th>\n",
              "      <th>onnet_mou_6</th>\n",
              "      <th>onnet_mou_7</th>\n",
              "      <th>onnet_mou_8</th>\n",
              "      <th>onnet_mou_9</th>\n",
              "      <th>offnet_mou_6</th>\n",
              "      <th>offnet_mou_7</th>\n",
              "      <th>offnet_mou_8</th>\n",
              "      <th>offnet_mou_9</th>\n",
              "      <th>roam_ic_mou_6</th>\n",
              "      <th>roam_ic_mou_7</th>\n",
              "      <th>roam_ic_mou_8</th>\n",
              "      <th>roam_ic_mou_9</th>\n",
              "      <th>roam_og_mou_6</th>\n",
              "      <th>roam_og_mou_7</th>\n",
              "      <th>roam_og_mou_8</th>\n",
              "      <th>roam_og_mou_9</th>\n",
              "      <th>loc_og_t2t_mou_6</th>\n",
              "      <th>loc_og_t2t_mou_7</th>\n",
              "      <th>loc_og_t2t_mou_8</th>\n",
              "      <th>loc_og_t2t_mou_9</th>\n",
              "      <th>loc_og_t2m_mou_6</th>\n",
              "      <th>loc_og_t2m_mou_7</th>\n",
              "      <th>loc_og_t2m_mou_8</th>\n",
              "      <th>loc_og_t2m_mou_9</th>\n",
              "      <th>loc_og_t2f_mou_6</th>\n",
              "      <th>loc_og_t2f_mou_7</th>\n",
              "      <th>loc_og_t2f_mou_8</th>\n",
              "      <th>...</th>\n",
              "      <th>vol_3g_mb_7</th>\n",
              "      <th>vol_3g_mb_8</th>\n",
              "      <th>vol_3g_mb_9</th>\n",
              "      <th>arpu_3g_6</th>\n",
              "      <th>arpu_3g_7</th>\n",
              "      <th>arpu_3g_8</th>\n",
              "      <th>arpu_3g_9</th>\n",
              "      <th>arpu_2g_6</th>\n",
              "      <th>arpu_2g_7</th>\n",
              "      <th>arpu_2g_8</th>\n",
              "      <th>arpu_2g_9</th>\n",
              "      <th>night_pck_user_6</th>\n",
              "      <th>night_pck_user_7</th>\n",
              "      <th>night_pck_user_8</th>\n",
              "      <th>night_pck_user_9</th>\n",
              "      <th>monthly_2g_6</th>\n",
              "      <th>monthly_2g_7</th>\n",
              "      <th>monthly_2g_8</th>\n",
              "      <th>monthly_2g_9</th>\n",
              "      <th>sachet_2g_6</th>\n",
              "      <th>sachet_2g_7</th>\n",
              "      <th>sachet_2g_8</th>\n",
              "      <th>sachet_2g_9</th>\n",
              "      <th>monthly_3g_6</th>\n",
              "      <th>monthly_3g_7</th>\n",
              "      <th>monthly_3g_8</th>\n",
              "      <th>monthly_3g_9</th>\n",
              "      <th>sachet_3g_6</th>\n",
              "      <th>sachet_3g_7</th>\n",
              "      <th>sachet_3g_8</th>\n",
              "      <th>sachet_3g_9</th>\n",
              "      <th>fb_user_6</th>\n",
              "      <th>fb_user_7</th>\n",
              "      <th>fb_user_8</th>\n",
              "      <th>fb_user_9</th>\n",
              "      <th>aon</th>\n",
              "      <th>aug_vbc_3g</th>\n",
              "      <th>jul_vbc_3g</th>\n",
              "      <th>jun_vbc_3g</th>\n",
              "      <th>sep_vbc_3g</th>\n",
              "    </tr>\n",
              "  </thead>\n",
              "  <tbody>\n",
              "    <tr>\n",
              "      <th>0</th>\n",
              "      <td>7000842753</td>\n",
              "      <td>109</td>\n",
              "      <td>0.0</td>\n",
              "      <td>0.0</td>\n",
              "      <td>0.0</td>\n",
              "      <td>6/30/2014</td>\n",
              "      <td>7/31/2014</td>\n",
              "      <td>8/31/2014</td>\n",
              "      <td>9/30/2014</td>\n",
              "      <td>197.385</td>\n",
              "      <td>214.816</td>\n",
              "      <td>213.803</td>\n",
              "      <td>21.100</td>\n",
              "      <td>NaN</td>\n",
              "      <td>NaN</td>\n",
              "      <td>0.00</td>\n",
              "      <td>NaN</td>\n",
              "      <td>NaN</td>\n",
              "      <td>NaN</td>\n",
              "      <td>0.00</td>\n",
              "      <td>NaN</td>\n",
              "      <td>NaN</td>\n",
              "      <td>NaN</td>\n",
              "      <td>0.00</td>\n",
              "      <td>NaN</td>\n",
              "      <td>NaN</td>\n",
              "      <td>NaN</td>\n",
              "      <td>0.00</td>\n",
              "      <td>NaN</td>\n",
              "      <td>NaN</td>\n",
              "      <td>NaN</td>\n",
              "      <td>0.00</td>\n",
              "      <td>NaN</td>\n",
              "      <td>NaN</td>\n",
              "      <td>NaN</td>\n",
              "      <td>0.00</td>\n",
              "      <td>NaN</td>\n",
              "      <td>NaN</td>\n",
              "      <td>NaN</td>\n",
              "      <td>0.00</td>\n",
              "      <td>...</td>\n",
              "      <td>150.76</td>\n",
              "      <td>109.61</td>\n",
              "      <td>0.00</td>\n",
              "      <td>212.17</td>\n",
              "      <td>212.17</td>\n",
              "      <td>212.17</td>\n",
              "      <td>NaN</td>\n",
              "      <td>212.17</td>\n",
              "      <td>212.17</td>\n",
              "      <td>212.17</td>\n",
              "      <td>NaN</td>\n",
              "      <td>0.0</td>\n",
              "      <td>0.0</td>\n",
              "      <td>0.0</td>\n",
              "      <td>NaN</td>\n",
              "      <td>0</td>\n",
              "      <td>0</td>\n",
              "      <td>0</td>\n",
              "      <td>0</td>\n",
              "      <td>0</td>\n",
              "      <td>0</td>\n",
              "      <td>0</td>\n",
              "      <td>0</td>\n",
              "      <td>1</td>\n",
              "      <td>1</td>\n",
              "      <td>1</td>\n",
              "      <td>0</td>\n",
              "      <td>0</td>\n",
              "      <td>0</td>\n",
              "      <td>0</td>\n",
              "      <td>0</td>\n",
              "      <td>1.0</td>\n",
              "      <td>1.0</td>\n",
              "      <td>1.0</td>\n",
              "      <td>NaN</td>\n",
              "      <td>968</td>\n",
              "      <td>30.4</td>\n",
              "      <td>0.0</td>\n",
              "      <td>101.20</td>\n",
              "      <td>3.58</td>\n",
              "    </tr>\n",
              "    <tr>\n",
              "      <th>1</th>\n",
              "      <td>7001865778</td>\n",
              "      <td>109</td>\n",
              "      <td>0.0</td>\n",
              "      <td>0.0</td>\n",
              "      <td>0.0</td>\n",
              "      <td>6/30/2014</td>\n",
              "      <td>7/31/2014</td>\n",
              "      <td>8/31/2014</td>\n",
              "      <td>9/30/2014</td>\n",
              "      <td>34.047</td>\n",
              "      <td>355.074</td>\n",
              "      <td>268.321</td>\n",
              "      <td>86.285</td>\n",
              "      <td>24.11</td>\n",
              "      <td>78.68</td>\n",
              "      <td>7.68</td>\n",
              "      <td>18.34</td>\n",
              "      <td>15.74</td>\n",
              "      <td>99.84</td>\n",
              "      <td>304.76</td>\n",
              "      <td>53.76</td>\n",
              "      <td>0.0</td>\n",
              "      <td>0.00</td>\n",
              "      <td>0.00</td>\n",
              "      <td>0.00</td>\n",
              "      <td>0.0</td>\n",
              "      <td>0.00</td>\n",
              "      <td>0.00</td>\n",
              "      <td>0.00</td>\n",
              "      <td>23.88</td>\n",
              "      <td>74.56</td>\n",
              "      <td>7.68</td>\n",
              "      <td>18.34</td>\n",
              "      <td>11.51</td>\n",
              "      <td>75.94</td>\n",
              "      <td>291.86</td>\n",
              "      <td>53.76</td>\n",
              "      <td>0.00</td>\n",
              "      <td>0.00</td>\n",
              "      <td>0.00</td>\n",
              "      <td>...</td>\n",
              "      <td>0.00</td>\n",
              "      <td>0.00</td>\n",
              "      <td>0.00</td>\n",
              "      <td>NaN</td>\n",
              "      <td>0.00</td>\n",
              "      <td>0.00</td>\n",
              "      <td>NaN</td>\n",
              "      <td>NaN</td>\n",
              "      <td>28.61</td>\n",
              "      <td>7.60</td>\n",
              "      <td>NaN</td>\n",
              "      <td>NaN</td>\n",
              "      <td>0.0</td>\n",
              "      <td>0.0</td>\n",
              "      <td>NaN</td>\n",
              "      <td>0</td>\n",
              "      <td>1</td>\n",
              "      <td>0</td>\n",
              "      <td>0</td>\n",
              "      <td>0</td>\n",
              "      <td>0</td>\n",
              "      <td>2</td>\n",
              "      <td>0</td>\n",
              "      <td>0</td>\n",
              "      <td>0</td>\n",
              "      <td>0</td>\n",
              "      <td>0</td>\n",
              "      <td>0</td>\n",
              "      <td>0</td>\n",
              "      <td>0</td>\n",
              "      <td>0</td>\n",
              "      <td>NaN</td>\n",
              "      <td>1.0</td>\n",
              "      <td>1.0</td>\n",
              "      <td>NaN</td>\n",
              "      <td>1006</td>\n",
              "      <td>0.0</td>\n",
              "      <td>0.0</td>\n",
              "      <td>0.00</td>\n",
              "      <td>0.00</td>\n",
              "    </tr>\n",
              "    <tr>\n",
              "      <th>2</th>\n",
              "      <td>7001625959</td>\n",
              "      <td>109</td>\n",
              "      <td>0.0</td>\n",
              "      <td>0.0</td>\n",
              "      <td>0.0</td>\n",
              "      <td>6/30/2014</td>\n",
              "      <td>7/31/2014</td>\n",
              "      <td>8/31/2014</td>\n",
              "      <td>9/30/2014</td>\n",
              "      <td>167.690</td>\n",
              "      <td>189.058</td>\n",
              "      <td>210.226</td>\n",
              "      <td>290.714</td>\n",
              "      <td>11.54</td>\n",
              "      <td>55.24</td>\n",
              "      <td>37.26</td>\n",
              "      <td>74.81</td>\n",
              "      <td>143.33</td>\n",
              "      <td>220.59</td>\n",
              "      <td>208.36</td>\n",
              "      <td>118.91</td>\n",
              "      <td>0.0</td>\n",
              "      <td>0.00</td>\n",
              "      <td>0.00</td>\n",
              "      <td>38.49</td>\n",
              "      <td>0.0</td>\n",
              "      <td>0.00</td>\n",
              "      <td>0.00</td>\n",
              "      <td>70.94</td>\n",
              "      <td>7.19</td>\n",
              "      <td>28.74</td>\n",
              "      <td>13.58</td>\n",
              "      <td>14.39</td>\n",
              "      <td>29.34</td>\n",
              "      <td>16.86</td>\n",
              "      <td>38.46</td>\n",
              "      <td>28.16</td>\n",
              "      <td>24.11</td>\n",
              "      <td>21.79</td>\n",
              "      <td>15.61</td>\n",
              "      <td>...</td>\n",
              "      <td>0.00</td>\n",
              "      <td>0.00</td>\n",
              "      <td>8.42</td>\n",
              "      <td>NaN</td>\n",
              "      <td>NaN</td>\n",
              "      <td>NaN</td>\n",
              "      <td>2.84</td>\n",
              "      <td>NaN</td>\n",
              "      <td>NaN</td>\n",
              "      <td>NaN</td>\n",
              "      <td>0.0</td>\n",
              "      <td>NaN</td>\n",
              "      <td>NaN</td>\n",
              "      <td>NaN</td>\n",
              "      <td>0.0</td>\n",
              "      <td>0</td>\n",
              "      <td>0</td>\n",
              "      <td>0</td>\n",
              "      <td>0</td>\n",
              "      <td>0</td>\n",
              "      <td>0</td>\n",
              "      <td>0</td>\n",
              "      <td>1</td>\n",
              "      <td>0</td>\n",
              "      <td>0</td>\n",
              "      <td>0</td>\n",
              "      <td>0</td>\n",
              "      <td>0</td>\n",
              "      <td>0</td>\n",
              "      <td>0</td>\n",
              "      <td>0</td>\n",
              "      <td>NaN</td>\n",
              "      <td>NaN</td>\n",
              "      <td>NaN</td>\n",
              "      <td>1.0</td>\n",
              "      <td>1103</td>\n",
              "      <td>0.0</td>\n",
              "      <td>0.0</td>\n",
              "      <td>4.17</td>\n",
              "      <td>0.00</td>\n",
              "    </tr>\n",
              "    <tr>\n",
              "      <th>3</th>\n",
              "      <td>7001204172</td>\n",
              "      <td>109</td>\n",
              "      <td>0.0</td>\n",
              "      <td>0.0</td>\n",
              "      <td>0.0</td>\n",
              "      <td>6/30/2014</td>\n",
              "      <td>7/31/2014</td>\n",
              "      <td>8/31/2014</td>\n",
              "      <td>9/30/2014</td>\n",
              "      <td>221.338</td>\n",
              "      <td>251.102</td>\n",
              "      <td>508.054</td>\n",
              "      <td>389.500</td>\n",
              "      <td>99.91</td>\n",
              "      <td>54.39</td>\n",
              "      <td>310.98</td>\n",
              "      <td>241.71</td>\n",
              "      <td>123.31</td>\n",
              "      <td>109.01</td>\n",
              "      <td>71.68</td>\n",
              "      <td>113.54</td>\n",
              "      <td>0.0</td>\n",
              "      <td>54.86</td>\n",
              "      <td>44.38</td>\n",
              "      <td>0.00</td>\n",
              "      <td>0.0</td>\n",
              "      <td>28.09</td>\n",
              "      <td>39.04</td>\n",
              "      <td>0.00</td>\n",
              "      <td>73.68</td>\n",
              "      <td>34.81</td>\n",
              "      <td>10.61</td>\n",
              "      <td>15.49</td>\n",
              "      <td>107.43</td>\n",
              "      <td>83.21</td>\n",
              "      <td>22.46</td>\n",
              "      <td>65.46</td>\n",
              "      <td>1.91</td>\n",
              "      <td>0.65</td>\n",
              "      <td>4.91</td>\n",
              "      <td>...</td>\n",
              "      <td>0.00</td>\n",
              "      <td>0.00</td>\n",
              "      <td>0.00</td>\n",
              "      <td>NaN</td>\n",
              "      <td>NaN</td>\n",
              "      <td>NaN</td>\n",
              "      <td>NaN</td>\n",
              "      <td>NaN</td>\n",
              "      <td>NaN</td>\n",
              "      <td>NaN</td>\n",
              "      <td>NaN</td>\n",
              "      <td>NaN</td>\n",
              "      <td>NaN</td>\n",
              "      <td>NaN</td>\n",
              "      <td>NaN</td>\n",
              "      <td>0</td>\n",
              "      <td>0</td>\n",
              "      <td>0</td>\n",
              "      <td>0</td>\n",
              "      <td>0</td>\n",
              "      <td>0</td>\n",
              "      <td>0</td>\n",
              "      <td>0</td>\n",
              "      <td>0</td>\n",
              "      <td>0</td>\n",
              "      <td>0</td>\n",
              "      <td>0</td>\n",
              "      <td>0</td>\n",
              "      <td>0</td>\n",
              "      <td>0</td>\n",
              "      <td>0</td>\n",
              "      <td>NaN</td>\n",
              "      <td>NaN</td>\n",
              "      <td>NaN</td>\n",
              "      <td>NaN</td>\n",
              "      <td>2491</td>\n",
              "      <td>0.0</td>\n",
              "      <td>0.0</td>\n",
              "      <td>0.00</td>\n",
              "      <td>0.00</td>\n",
              "    </tr>\n",
              "    <tr>\n",
              "      <th>4</th>\n",
              "      <td>7000142493</td>\n",
              "      <td>109</td>\n",
              "      <td>0.0</td>\n",
              "      <td>0.0</td>\n",
              "      <td>0.0</td>\n",
              "      <td>6/30/2014</td>\n",
              "      <td>7/31/2014</td>\n",
              "      <td>8/31/2014</td>\n",
              "      <td>9/30/2014</td>\n",
              "      <td>261.636</td>\n",
              "      <td>309.876</td>\n",
              "      <td>238.174</td>\n",
              "      <td>163.426</td>\n",
              "      <td>50.31</td>\n",
              "      <td>149.44</td>\n",
              "      <td>83.89</td>\n",
              "      <td>58.78</td>\n",
              "      <td>76.96</td>\n",
              "      <td>91.88</td>\n",
              "      <td>124.26</td>\n",
              "      <td>45.81</td>\n",
              "      <td>0.0</td>\n",
              "      <td>0.00</td>\n",
              "      <td>0.00</td>\n",
              "      <td>0.00</td>\n",
              "      <td>0.0</td>\n",
              "      <td>0.00</td>\n",
              "      <td>0.00</td>\n",
              "      <td>0.00</td>\n",
              "      <td>50.31</td>\n",
              "      <td>149.44</td>\n",
              "      <td>83.89</td>\n",
              "      <td>58.78</td>\n",
              "      <td>67.64</td>\n",
              "      <td>91.88</td>\n",
              "      <td>124.26</td>\n",
              "      <td>37.89</td>\n",
              "      <td>0.00</td>\n",
              "      <td>0.00</td>\n",
              "      <td>0.00</td>\n",
              "      <td>...</td>\n",
              "      <td>0.00</td>\n",
              "      <td>0.00</td>\n",
              "      <td>0.00</td>\n",
              "      <td>0.00</td>\n",
              "      <td>NaN</td>\n",
              "      <td>NaN</td>\n",
              "      <td>NaN</td>\n",
              "      <td>0.00</td>\n",
              "      <td>NaN</td>\n",
              "      <td>NaN</td>\n",
              "      <td>NaN</td>\n",
              "      <td>0.0</td>\n",
              "      <td>NaN</td>\n",
              "      <td>NaN</td>\n",
              "      <td>NaN</td>\n",
              "      <td>0</td>\n",
              "      <td>0</td>\n",
              "      <td>0</td>\n",
              "      <td>0</td>\n",
              "      <td>1</td>\n",
              "      <td>0</td>\n",
              "      <td>0</td>\n",
              "      <td>0</td>\n",
              "      <td>0</td>\n",
              "      <td>0</td>\n",
              "      <td>0</td>\n",
              "      <td>0</td>\n",
              "      <td>0</td>\n",
              "      <td>0</td>\n",
              "      <td>0</td>\n",
              "      <td>0</td>\n",
              "      <td>0.0</td>\n",
              "      <td>NaN</td>\n",
              "      <td>NaN</td>\n",
              "      <td>NaN</td>\n",
              "      <td>1526</td>\n",
              "      <td>0.0</td>\n",
              "      <td>0.0</td>\n",
              "      <td>0.00</td>\n",
              "      <td>0.00</td>\n",
              "    </tr>\n",
              "  </tbody>\n",
              "</table>\n",
              "<p>5 rows × 226 columns</p>\n",
              "</div>"
            ],
            "text/plain": [
              "   mobile_number  circle_id  loc_og_t2o_mou  ...  jul_vbc_3g  jun_vbc_3g sep_vbc_3g\n",
              "0     7000842753        109             0.0  ...         0.0      101.20       3.58\n",
              "1     7001865778        109             0.0  ...         0.0        0.00       0.00\n",
              "2     7001625959        109             0.0  ...         0.0        4.17       0.00\n",
              "3     7001204172        109             0.0  ...         0.0        0.00       0.00\n",
              "4     7000142493        109             0.0  ...         0.0        0.00       0.00\n",
              "\n",
              "[5 rows x 226 columns]"
            ]
          },
          "metadata": {
            "tags": []
          },
          "execution_count": 2
        }
      ]
    },
    {
      "cell_type": "code",
      "metadata": {
        "colab": {
          "base_uri": "https://localhost:8080/"
        },
        "id": "ZG1ZZXdxpaXJ",
        "outputId": "5b84558f-008b-4b9e-98eb-4ae541ee2501"
      },
      "source": [
        "df.info(verbose=all)"
      ],
      "execution_count": 3,
      "outputs": [
        {
          "output_type": "stream",
          "text": [
            "<class 'pandas.core.frame.DataFrame'>\n",
            "RangeIndex: 99999 entries, 0 to 99998\n",
            "Data columns (total 226 columns):\n",
            " #   Column                    Dtype  \n",
            "---  ------                    -----  \n",
            " 0   mobile_number             int64  \n",
            " 1   circle_id                 int64  \n",
            " 2   loc_og_t2o_mou            float64\n",
            " 3   std_og_t2o_mou            float64\n",
            " 4   loc_ic_t2o_mou            float64\n",
            " 5   last_date_of_month_6      object \n",
            " 6   last_date_of_month_7      object \n",
            " 7   last_date_of_month_8      object \n",
            " 8   last_date_of_month_9      object \n",
            " 9   arpu_6                    float64\n",
            " 10  arpu_7                    float64\n",
            " 11  arpu_8                    float64\n",
            " 12  arpu_9                    float64\n",
            " 13  onnet_mou_6               float64\n",
            " 14  onnet_mou_7               float64\n",
            " 15  onnet_mou_8               float64\n",
            " 16  onnet_mou_9               float64\n",
            " 17  offnet_mou_6              float64\n",
            " 18  offnet_mou_7              float64\n",
            " 19  offnet_mou_8              float64\n",
            " 20  offnet_mou_9              float64\n",
            " 21  roam_ic_mou_6             float64\n",
            " 22  roam_ic_mou_7             float64\n",
            " 23  roam_ic_mou_8             float64\n",
            " 24  roam_ic_mou_9             float64\n",
            " 25  roam_og_mou_6             float64\n",
            " 26  roam_og_mou_7             float64\n",
            " 27  roam_og_mou_8             float64\n",
            " 28  roam_og_mou_9             float64\n",
            " 29  loc_og_t2t_mou_6          float64\n",
            " 30  loc_og_t2t_mou_7          float64\n",
            " 31  loc_og_t2t_mou_8          float64\n",
            " 32  loc_og_t2t_mou_9          float64\n",
            " 33  loc_og_t2m_mou_6          float64\n",
            " 34  loc_og_t2m_mou_7          float64\n",
            " 35  loc_og_t2m_mou_8          float64\n",
            " 36  loc_og_t2m_mou_9          float64\n",
            " 37  loc_og_t2f_mou_6          float64\n",
            " 38  loc_og_t2f_mou_7          float64\n",
            " 39  loc_og_t2f_mou_8          float64\n",
            " 40  loc_og_t2f_mou_9          float64\n",
            " 41  loc_og_t2c_mou_6          float64\n",
            " 42  loc_og_t2c_mou_7          float64\n",
            " 43  loc_og_t2c_mou_8          float64\n",
            " 44  loc_og_t2c_mou_9          float64\n",
            " 45  loc_og_mou_6              float64\n",
            " 46  loc_og_mou_7              float64\n",
            " 47  loc_og_mou_8              float64\n",
            " 48  loc_og_mou_9              float64\n",
            " 49  std_og_t2t_mou_6          float64\n",
            " 50  std_og_t2t_mou_7          float64\n",
            " 51  std_og_t2t_mou_8          float64\n",
            " 52  std_og_t2t_mou_9          float64\n",
            " 53  std_og_t2m_mou_6          float64\n",
            " 54  std_og_t2m_mou_7          float64\n",
            " 55  std_og_t2m_mou_8          float64\n",
            " 56  std_og_t2m_mou_9          float64\n",
            " 57  std_og_t2f_mou_6          float64\n",
            " 58  std_og_t2f_mou_7          float64\n",
            " 59  std_og_t2f_mou_8          float64\n",
            " 60  std_og_t2f_mou_9          float64\n",
            " 61  std_og_t2c_mou_6          float64\n",
            " 62  std_og_t2c_mou_7          float64\n",
            " 63  std_og_t2c_mou_8          float64\n",
            " 64  std_og_t2c_mou_9          float64\n",
            " 65  std_og_mou_6              float64\n",
            " 66  std_og_mou_7              float64\n",
            " 67  std_og_mou_8              float64\n",
            " 68  std_og_mou_9              float64\n",
            " 69  isd_og_mou_6              float64\n",
            " 70  isd_og_mou_7              float64\n",
            " 71  isd_og_mou_8              float64\n",
            " 72  isd_og_mou_9              float64\n",
            " 73  spl_og_mou_6              float64\n",
            " 74  spl_og_mou_7              float64\n",
            " 75  spl_og_mou_8              float64\n",
            " 76  spl_og_mou_9              float64\n",
            " 77  og_others_6               float64\n",
            " 78  og_others_7               float64\n",
            " 79  og_others_8               float64\n",
            " 80  og_others_9               float64\n",
            " 81  total_og_mou_6            float64\n",
            " 82  total_og_mou_7            float64\n",
            " 83  total_og_mou_8            float64\n",
            " 84  total_og_mou_9            float64\n",
            " 85  loc_ic_t2t_mou_6          float64\n",
            " 86  loc_ic_t2t_mou_7          float64\n",
            " 87  loc_ic_t2t_mou_8          float64\n",
            " 88  loc_ic_t2t_mou_9          float64\n",
            " 89  loc_ic_t2m_mou_6          float64\n",
            " 90  loc_ic_t2m_mou_7          float64\n",
            " 91  loc_ic_t2m_mou_8          float64\n",
            " 92  loc_ic_t2m_mou_9          float64\n",
            " 93  loc_ic_t2f_mou_6          float64\n",
            " 94  loc_ic_t2f_mou_7          float64\n",
            " 95  loc_ic_t2f_mou_8          float64\n",
            " 96  loc_ic_t2f_mou_9          float64\n",
            " 97  loc_ic_mou_6              float64\n",
            " 98  loc_ic_mou_7              float64\n",
            " 99  loc_ic_mou_8              float64\n",
            " 100 loc_ic_mou_9              float64\n",
            " 101 std_ic_t2t_mou_6          float64\n",
            " 102 std_ic_t2t_mou_7          float64\n",
            " 103 std_ic_t2t_mou_8          float64\n",
            " 104 std_ic_t2t_mou_9          float64\n",
            " 105 std_ic_t2m_mou_6          float64\n",
            " 106 std_ic_t2m_mou_7          float64\n",
            " 107 std_ic_t2m_mou_8          float64\n",
            " 108 std_ic_t2m_mou_9          float64\n",
            " 109 std_ic_t2f_mou_6          float64\n",
            " 110 std_ic_t2f_mou_7          float64\n",
            " 111 std_ic_t2f_mou_8          float64\n",
            " 112 std_ic_t2f_mou_9          float64\n",
            " 113 std_ic_t2o_mou_6          float64\n",
            " 114 std_ic_t2o_mou_7          float64\n",
            " 115 std_ic_t2o_mou_8          float64\n",
            " 116 std_ic_t2o_mou_9          float64\n",
            " 117 std_ic_mou_6              float64\n",
            " 118 std_ic_mou_7              float64\n",
            " 119 std_ic_mou_8              float64\n",
            " 120 std_ic_mou_9              float64\n",
            " 121 total_ic_mou_6            float64\n",
            " 122 total_ic_mou_7            float64\n",
            " 123 total_ic_mou_8            float64\n",
            " 124 total_ic_mou_9            float64\n",
            " 125 spl_ic_mou_6              float64\n",
            " 126 spl_ic_mou_7              float64\n",
            " 127 spl_ic_mou_8              float64\n",
            " 128 spl_ic_mou_9              float64\n",
            " 129 isd_ic_mou_6              float64\n",
            " 130 isd_ic_mou_7              float64\n",
            " 131 isd_ic_mou_8              float64\n",
            " 132 isd_ic_mou_9              float64\n",
            " 133 ic_others_6               float64\n",
            " 134 ic_others_7               float64\n",
            " 135 ic_others_8               float64\n",
            " 136 ic_others_9               float64\n",
            " 137 total_rech_num_6          int64  \n",
            " 138 total_rech_num_7          int64  \n",
            " 139 total_rech_num_8          int64  \n",
            " 140 total_rech_num_9          int64  \n",
            " 141 total_rech_amt_6          int64  \n",
            " 142 total_rech_amt_7          int64  \n",
            " 143 total_rech_amt_8          int64  \n",
            " 144 total_rech_amt_9          int64  \n",
            " 145 max_rech_amt_6            int64  \n",
            " 146 max_rech_amt_7            int64  \n",
            " 147 max_rech_amt_8            int64  \n",
            " 148 max_rech_amt_9            int64  \n",
            " 149 date_of_last_rech_6       object \n",
            " 150 date_of_last_rech_7       object \n",
            " 151 date_of_last_rech_8       object \n",
            " 152 date_of_last_rech_9       object \n",
            " 153 last_day_rch_amt_6        int64  \n",
            " 154 last_day_rch_amt_7        int64  \n",
            " 155 last_day_rch_amt_8        int64  \n",
            " 156 last_day_rch_amt_9        int64  \n",
            " 157 date_of_last_rech_data_6  object \n",
            " 158 date_of_last_rech_data_7  object \n",
            " 159 date_of_last_rech_data_8  object \n",
            " 160 date_of_last_rech_data_9  object \n",
            " 161 total_rech_data_6         float64\n",
            " 162 total_rech_data_7         float64\n",
            " 163 total_rech_data_8         float64\n",
            " 164 total_rech_data_9         float64\n",
            " 165 max_rech_data_6           float64\n",
            " 166 max_rech_data_7           float64\n",
            " 167 max_rech_data_8           float64\n",
            " 168 max_rech_data_9           float64\n",
            " 169 count_rech_2g_6           float64\n",
            " 170 count_rech_2g_7           float64\n",
            " 171 count_rech_2g_8           float64\n",
            " 172 count_rech_2g_9           float64\n",
            " 173 count_rech_3g_6           float64\n",
            " 174 count_rech_3g_7           float64\n",
            " 175 count_rech_3g_8           float64\n",
            " 176 count_rech_3g_9           float64\n",
            " 177 av_rech_amt_data_6        float64\n",
            " 178 av_rech_amt_data_7        float64\n",
            " 179 av_rech_amt_data_8        float64\n",
            " 180 av_rech_amt_data_9        float64\n",
            " 181 vol_2g_mb_6               float64\n",
            " 182 vol_2g_mb_7               float64\n",
            " 183 vol_2g_mb_8               float64\n",
            " 184 vol_2g_mb_9               float64\n",
            " 185 vol_3g_mb_6               float64\n",
            " 186 vol_3g_mb_7               float64\n",
            " 187 vol_3g_mb_8               float64\n",
            " 188 vol_3g_mb_9               float64\n",
            " 189 arpu_3g_6                 float64\n",
            " 190 arpu_3g_7                 float64\n",
            " 191 arpu_3g_8                 float64\n",
            " 192 arpu_3g_9                 float64\n",
            " 193 arpu_2g_6                 float64\n",
            " 194 arpu_2g_7                 float64\n",
            " 195 arpu_2g_8                 float64\n",
            " 196 arpu_2g_9                 float64\n",
            " 197 night_pck_user_6          float64\n",
            " 198 night_pck_user_7          float64\n",
            " 199 night_pck_user_8          float64\n",
            " 200 night_pck_user_9          float64\n",
            " 201 monthly_2g_6              int64  \n",
            " 202 monthly_2g_7              int64  \n",
            " 203 monthly_2g_8              int64  \n",
            " 204 monthly_2g_9              int64  \n",
            " 205 sachet_2g_6               int64  \n",
            " 206 sachet_2g_7               int64  \n",
            " 207 sachet_2g_8               int64  \n",
            " 208 sachet_2g_9               int64  \n",
            " 209 monthly_3g_6              int64  \n",
            " 210 monthly_3g_7              int64  \n",
            " 211 monthly_3g_8              int64  \n",
            " 212 monthly_3g_9              int64  \n",
            " 213 sachet_3g_6               int64  \n",
            " 214 sachet_3g_7               int64  \n",
            " 215 sachet_3g_8               int64  \n",
            " 216 sachet_3g_9               int64  \n",
            " 217 fb_user_6                 float64\n",
            " 218 fb_user_7                 float64\n",
            " 219 fb_user_8                 float64\n",
            " 220 fb_user_9                 float64\n",
            " 221 aon                       int64  \n",
            " 222 aug_vbc_3g                float64\n",
            " 223 jul_vbc_3g                float64\n",
            " 224 jun_vbc_3g                float64\n",
            " 225 sep_vbc_3g                float64\n",
            "dtypes: float64(179), int64(35), object(12)\n",
            "memory usage: 172.4+ MB\n"
          ],
          "name": "stdout"
        }
      ]
    },
    {
      "cell_type": "code",
      "metadata": {
        "colab": {
          "base_uri": "https://localhost:8080/"
        },
        "id": "tAP8wxBYsKxR",
        "outputId": "e7764e1d-ff9e-4b29-d45a-7fd2c1c4cfda"
      },
      "source": [
        "df.shape"
      ],
      "execution_count": 4,
      "outputs": [
        {
          "output_type": "execute_result",
          "data": {
            "text/plain": [
              "(99999, 226)"
            ]
          },
          "metadata": {
            "tags": []
          },
          "execution_count": 4
        }
      ]
    },
    {
      "cell_type": "code",
      "metadata": {
        "id": "7OxH4hTwsMF4"
      },
      "source": [
        "# create backup of data\n",
        "df_bk = df.copy()"
      ],
      "execution_count": 5,
      "outputs": []
    },
    {
      "cell_type": "code",
      "metadata": {
        "id": "RC2xT6tSWr4N"
      },
      "source": [
        "# Utility Functions\n",
        "\n",
        "def getNullCols(df,percent):\n",
        "    # Function to retun the columns with more than percent% missing values.\n",
        "    # argument: percent, % values threshold for missing values\n",
        "    missing = round(100*(df.isnull().sum()/df.shape[0]))\n",
        "    print(\"There are {} features having more than {}% missing values/entries\".format(len(missing.loc[missing > percent]),percent))\n",
        "    return missing.loc[missing > percent]\n",
        "\n",
        "\n",
        "def imputeNan(data,imputeColList=False,missingColList=False):\n",
        "    # Function impute the nan with 0\n",
        "    # argument: colList, list of columns for which nan is to be replaced with 0\n",
        "    if imputeColList:\n",
        "        for col in [y + s for s in ['_6','_7','_8','_9'] for y in imputeColList]:\n",
        "            data[col].fillna(0, inplace=True)\n",
        "    else:    \n",
        "        for col in missingColList:\n",
        "            data[col].fillna(0, inplace=True)"
      ],
      "execution_count": 6,
      "outputs": []
    },
    {
      "cell_type": "code",
      "metadata": {
        "colab": {
          "base_uri": "https://localhost:8080/"
        },
        "id": "US_rrZ-YsXXn",
        "outputId": "f9be6ca9-e4b5-4952-8ae6-6b89f361cd06"
      },
      "source": [
        "# checking the columns which has more than 70% of missing values\n",
        "z=getNullCols(df,70)\n",
        "print(z)"
      ],
      "execution_count": 7,
      "outputs": [
        {
          "output_type": "stream",
          "text": [
            "There are 40 features having more than 70% missing values/entries\n",
            "date_of_last_rech_data_6    75.0\n",
            "date_of_last_rech_data_7    74.0\n",
            "date_of_last_rech_data_8    74.0\n",
            "date_of_last_rech_data_9    74.0\n",
            "total_rech_data_6           75.0\n",
            "total_rech_data_7           74.0\n",
            "total_rech_data_8           74.0\n",
            "total_rech_data_9           74.0\n",
            "max_rech_data_6             75.0\n",
            "max_rech_data_7             74.0\n",
            "max_rech_data_8             74.0\n",
            "max_rech_data_9             74.0\n",
            "count_rech_2g_6             75.0\n",
            "count_rech_2g_7             74.0\n",
            "count_rech_2g_8             74.0\n",
            "count_rech_2g_9             74.0\n",
            "count_rech_3g_6             75.0\n",
            "count_rech_3g_7             74.0\n",
            "count_rech_3g_8             74.0\n",
            "count_rech_3g_9             74.0\n",
            "av_rech_amt_data_6          75.0\n",
            "av_rech_amt_data_7          74.0\n",
            "av_rech_amt_data_8          74.0\n",
            "av_rech_amt_data_9          74.0\n",
            "arpu_3g_6                   75.0\n",
            "arpu_3g_7                   74.0\n",
            "arpu_3g_8                   74.0\n",
            "arpu_3g_9                   74.0\n",
            "arpu_2g_6                   75.0\n",
            "arpu_2g_7                   74.0\n",
            "arpu_2g_8                   74.0\n",
            "arpu_2g_9                   74.0\n",
            "night_pck_user_6            75.0\n",
            "night_pck_user_7            74.0\n",
            "night_pck_user_8            74.0\n",
            "night_pck_user_9            74.0\n",
            "fb_user_6                   75.0\n",
            "fb_user_7                   74.0\n",
            "fb_user_8                   74.0\n",
            "fb_user_9                   74.0\n",
            "dtype: float64\n"
          ],
          "name": "stdout"
        }
      ]
    },
    {
      "cell_type": "code",
      "metadata": {
        "id": "bkyqH1kxsj7_",
        "colab": {
          "base_uri": "https://localhost:8080/"
        },
        "outputId": "d06e89a5-fc6a-42f8-a965-a9e4103c2fa9"
      },
      "source": [
        "df.columns"
      ],
      "execution_count": 8,
      "outputs": [
        {
          "output_type": "execute_result",
          "data": {
            "text/plain": [
              "Index(['mobile_number', 'circle_id', 'loc_og_t2o_mou', 'std_og_t2o_mou',\n",
              "       'loc_ic_t2o_mou', 'last_date_of_month_6', 'last_date_of_month_7',\n",
              "       'last_date_of_month_8', 'last_date_of_month_9', 'arpu_6',\n",
              "       ...\n",
              "       'sachet_3g_9', 'fb_user_6', 'fb_user_7', 'fb_user_8', 'fb_user_9',\n",
              "       'aon', 'aug_vbc_3g', 'jul_vbc_3g', 'jun_vbc_3g', 'sep_vbc_3g'],\n",
              "      dtype='object', length=226)"
            ]
          },
          "metadata": {
            "tags": []
          },
          "execution_count": 8
        }
      ]
    },
    {
      "cell_type": "markdown",
      "metadata": {
        "id": "3G5KOYLATeSR"
      },
      "source": [
        "Out the these 40 features, many are required and are essential for analysis. The missing values for these features seems to suggest that these customers KPI's did not have any value at that month. We can choose to impute these values with 0 to make enable these features to give value to analysis."
      ]
    },
    {
      "cell_type": "code",
      "metadata": {
        "colab": {
          "base_uri": "https://localhost:8080/"
        },
        "id": "WngtrAO5TfeI",
        "outputId": "14f0431d-0446-4464-a04f-036fedb46af3"
      },
      "source": [
        "# Since av_rech_amt_data_* features are important for getting the high-value customers,\n",
        "#lets impute the missing av_rech_amt_data_* with 0\n",
        "imputeCol = ['av_rech_amt_data', 'arpu_2g', 'arpu_3g', 'count_rech_2g', 'count_rech_3g',\n",
        "             'max_rech_data', 'total_rech_data','fb_user','night_pck_user']\n",
        "\n",
        "imputeNan(df,imputeCol)\n",
        "\n",
        "z=getNullCols(df,50)\n",
        "print(z)"
      ],
      "execution_count": 9,
      "outputs": [
        {
          "output_type": "stream",
          "text": [
            "There are 4 features having more than 50% missing values/entries\n",
            "date_of_last_rech_data_6    75.0\n",
            "date_of_last_rech_data_7    74.0\n",
            "date_of_last_rech_data_8    74.0\n",
            "date_of_last_rech_data_9    74.0\n",
            "dtype: float64\n"
          ],
          "name": "stdout"
        }
      ]
    },
    {
      "cell_type": "code",
      "metadata": {
        "id": "YWCpEfppmSI-"
      },
      "source": [
        "# fix date columns by deriving new variables\n",
        "# Driver Variable\n",
        "\n",
        "date_vars = [\"date_of_last_rech_6\",  \"date_of_last_rech_7\", \"date_of_last_rech_8\"]\n",
        "for col in date_vars:\n",
        "    df[col] = pd.to_datetime(df[col])\n",
        "\n",
        "\n",
        "import datetime\n",
        "last_date_of_month_6 = datetime.datetime.strptime(\"30-06-2014\", \"%d-%m-%Y\")\n",
        "last_date_of_month_7 = datetime.datetime.strptime(\"31-07-2014\", \"%d-%m-%Y\")\n",
        "last_date_of_month_8 = datetime.datetime.strptime(\"31-08-2014\", \"%d-%m-%Y\")\n",
        "\n",
        "df[\"rech_days_left_6\"]      = (last_date_of_month_6 - df['date_of_last_rech_6']).astype('timedelta64[D]')\n",
        "df[\"rech_days_left_7\"]      = (last_date_of_month_7 - df['date_of_last_rech_7']).astype('timedelta64[D]')\n",
        "df[\"rech_days_left_8\"]      = (last_date_of_month_8 - df['date_of_last_rech_8']).astype('timedelta64[D]')\n",
        "\n",
        "df.drop(date_vars, axis=1, inplace=True)\n",
        "\n",
        "\n",
        "\n",
        "df.loc[np.isnan(df['rech_days_left_6']), ['rech_days_left_6']] = df['rech_days_left_6'].median()\n",
        "df.loc[np.isnan(df['rech_days_left_7']), ['rech_days_left_7']] = df['rech_days_left_7'].median()\n",
        "df.loc[np.isnan(df['rech_days_left_8']), ['rech_days_left_8']] = df['rech_days_left_8'].median()"
      ],
      "execution_count": 10,
      "outputs": []
    },
    {
      "cell_type": "code",
      "metadata": {
        "id": "J7ZNAJ2gVk-F",
        "colab": {
          "base_uri": "https://localhost:8080/"
        },
        "outputId": "5a0b9685-f3b5-4f47-b5fe-81047c2bc5b8"
      },
      "source": [
        "# dropping the columns having more than 50% missing values\n",
        "missingcol = list(getNullCols(df,50).index)\n",
        "df.drop(missingcol,axis=1,inplace=True)\n",
        "df.shape"
      ],
      "execution_count": 11,
      "outputs": [
        {
          "output_type": "stream",
          "text": [
            "There are 4 features having more than 50% missing values/entries\n"
          ],
          "name": "stdout"
        },
        {
          "output_type": "execute_result",
          "data": {
            "text/plain": [
              "(99999, 222)"
            ]
          },
          "metadata": {
            "tags": []
          },
          "execution_count": 11
        }
      ]
    },
    {
      "cell_type": "markdown",
      "metadata": {
        "id": "OYnlqpLzrNEp"
      },
      "source": [
        "Filter High-Value Customers"
      ]
    },
    {
      "cell_type": "code",
      "metadata": {
        "id": "ZV8jBs9XrQKn"
      },
      "source": [
        "\n",
        "# New DERIVED Columns for Total Data Recharge Amount\n",
        "\n",
        "df[\"total_rech_data_amt_6\"] = df[\"total_rech_data_6\"]*df['av_rech_amt_data_6']\n",
        "df[\"total_rech_data_amt_7\"] = df[\"total_rech_data_7\"]*df['av_rech_amt_data_7']\n",
        "df[\"total_rech_data_amt_8\"] = df[\"total_rech_data_8\"]*df['av_rech_amt_data_8']\n",
        "df[\"total_rech_data_amt_9\"] = df[\"total_rech_data_9\"]*df['av_rech_amt_data_9']\n",
        "\n",
        "# We can drop total_rech_data_* and av_rech_amt_data_*\n",
        "drop_data_columns = [\"total_rech_data_6\", \"total_rech_data_7\", \"total_rech_data_8\", \"total_rech_data_9\", \n",
        "                'av_rech_amt_data_6', 'av_rech_amt_data_7', 'av_rech_amt_data_8', 'av_rech_amt_data_9']\n",
        "df.drop(drop_data_columns, axis=1, inplace=True)"
      ],
      "execution_count": 12,
      "outputs": []
    },
    {
      "cell_type": "code",
      "metadata": {
        "id": "9kMTTQ6BruFO",
        "colab": {
          "base_uri": "https://localhost:8080/"
        },
        "outputId": "9718ff2a-1401-4539-b5ac-7e6f650319ee"
      },
      "source": [
        "# Filter high-value customers\n",
        "avg_rech_amt_6_7 = (df[\"total_rech_amt_6\"] + df[\"total_rech_data_amt_6\"] + \n",
        "                      df[\"total_rech_amt_7\"] + df[\"total_rech_data_amt_7\"]) / 2.0\n",
        "amont_70_pc = np.percentile(avg_rech_amt_6_7, 70.0)\n",
        "print('70 percentile of first two months avg recharge amount: ', amont_70_pc)\n",
        "#df['avg_rech_amt_6_7']=avg_rech_amt_6_7\n",
        "df = df[avg_rech_amt_6_7 >= amont_70_pc]\n",
        "print('Dataframe Shape: ', df.shape)"
      ],
      "execution_count": 13,
      "outputs": [
        {
          "output_type": "stream",
          "text": [
            "70 percentile of first two months avg recharge amount:  478.0\n",
            "Dataframe Shape:  (30001, 218)\n"
          ],
          "name": "stdout"
        }
      ]
    },
    {
      "cell_type": "markdown",
      "metadata": {
        "id": "htC-IuU2sDU0"
      },
      "source": [
        "Label the Chrun customer as churned using the 9th month data"
      ]
    },
    {
      "cell_type": "code",
      "metadata": {
        "id": "KCxPmc7ksCsM",
        "colab": {
          "base_uri": "https://localhost:8080/",
          "height": 287
        },
        "outputId": "a4567029-a850-4f07-b9f6-c4be19954ff5"
      },
      "source": [
        "\n",
        "# Identify Churn\n",
        "X = df[\"total_ic_mou_9\"] + df[\"total_og_mou_9\"] + df[\"vol_2g_mb_9\"] + df[\"vol_3g_mb_9\"]\n",
        "df[\"churn\"] = np.where(X, 0, 1)\n",
        "\n",
        "\n",
        "# Columns to be dropped: all columns ending with \"_9\"\n",
        "drop_fourth_month_columns = [hdr for hdr in list(df) if hdr.endswith(\"_9\")]\n",
        "drop_fourth_month_columns += [\"sep_vbc_3g\"]\n",
        "df.drop(drop_fourth_month_columns, axis=1, inplace=True)\n",
        "\n",
        "print('Number of columns droped here  = ', len(drop_fourth_month_columns))\n",
        "print('Dataframe Shape: ', df.shape);\n",
        "df.head()"
      ],
      "execution_count": 14,
      "outputs": [
        {
          "output_type": "stream",
          "text": [
            "Number of columns droped here  =  53\n",
            "Dataframe Shape:  (30001, 166)\n"
          ],
          "name": "stdout"
        },
        {
          "output_type": "execute_result",
          "data": {
            "text/html": [
              "<div>\n",
              "<style scoped>\n",
              "    .dataframe tbody tr th:only-of-type {\n",
              "        vertical-align: middle;\n",
              "    }\n",
              "\n",
              "    .dataframe tbody tr th {\n",
              "        vertical-align: top;\n",
              "    }\n",
              "\n",
              "    .dataframe thead th {\n",
              "        text-align: right;\n",
              "    }\n",
              "</style>\n",
              "<table border=\"1\" class=\"dataframe\">\n",
              "  <thead>\n",
              "    <tr style=\"text-align: right;\">\n",
              "      <th></th>\n",
              "      <th>mobile_number</th>\n",
              "      <th>circle_id</th>\n",
              "      <th>loc_og_t2o_mou</th>\n",
              "      <th>std_og_t2o_mou</th>\n",
              "      <th>loc_ic_t2o_mou</th>\n",
              "      <th>last_date_of_month_6</th>\n",
              "      <th>last_date_of_month_7</th>\n",
              "      <th>last_date_of_month_8</th>\n",
              "      <th>arpu_6</th>\n",
              "      <th>arpu_7</th>\n",
              "      <th>arpu_8</th>\n",
              "      <th>onnet_mou_6</th>\n",
              "      <th>onnet_mou_7</th>\n",
              "      <th>onnet_mou_8</th>\n",
              "      <th>offnet_mou_6</th>\n",
              "      <th>offnet_mou_7</th>\n",
              "      <th>offnet_mou_8</th>\n",
              "      <th>roam_ic_mou_6</th>\n",
              "      <th>roam_ic_mou_7</th>\n",
              "      <th>roam_ic_mou_8</th>\n",
              "      <th>roam_og_mou_6</th>\n",
              "      <th>roam_og_mou_7</th>\n",
              "      <th>roam_og_mou_8</th>\n",
              "      <th>loc_og_t2t_mou_6</th>\n",
              "      <th>loc_og_t2t_mou_7</th>\n",
              "      <th>loc_og_t2t_mou_8</th>\n",
              "      <th>loc_og_t2m_mou_6</th>\n",
              "      <th>loc_og_t2m_mou_7</th>\n",
              "      <th>loc_og_t2m_mou_8</th>\n",
              "      <th>loc_og_t2f_mou_6</th>\n",
              "      <th>loc_og_t2f_mou_7</th>\n",
              "      <th>loc_og_t2f_mou_8</th>\n",
              "      <th>loc_og_t2c_mou_6</th>\n",
              "      <th>loc_og_t2c_mou_7</th>\n",
              "      <th>loc_og_t2c_mou_8</th>\n",
              "      <th>loc_og_mou_6</th>\n",
              "      <th>loc_og_mou_7</th>\n",
              "      <th>loc_og_mou_8</th>\n",
              "      <th>std_og_t2t_mou_6</th>\n",
              "      <th>std_og_t2t_mou_7</th>\n",
              "      <th>...</th>\n",
              "      <th>vol_2g_mb_7</th>\n",
              "      <th>vol_2g_mb_8</th>\n",
              "      <th>vol_3g_mb_6</th>\n",
              "      <th>vol_3g_mb_7</th>\n",
              "      <th>vol_3g_mb_8</th>\n",
              "      <th>arpu_3g_6</th>\n",
              "      <th>arpu_3g_7</th>\n",
              "      <th>arpu_3g_8</th>\n",
              "      <th>arpu_2g_6</th>\n",
              "      <th>arpu_2g_7</th>\n",
              "      <th>arpu_2g_8</th>\n",
              "      <th>night_pck_user_6</th>\n",
              "      <th>night_pck_user_7</th>\n",
              "      <th>night_pck_user_8</th>\n",
              "      <th>monthly_2g_6</th>\n",
              "      <th>monthly_2g_7</th>\n",
              "      <th>monthly_2g_8</th>\n",
              "      <th>sachet_2g_6</th>\n",
              "      <th>sachet_2g_7</th>\n",
              "      <th>sachet_2g_8</th>\n",
              "      <th>monthly_3g_6</th>\n",
              "      <th>monthly_3g_7</th>\n",
              "      <th>monthly_3g_8</th>\n",
              "      <th>sachet_3g_6</th>\n",
              "      <th>sachet_3g_7</th>\n",
              "      <th>sachet_3g_8</th>\n",
              "      <th>fb_user_6</th>\n",
              "      <th>fb_user_7</th>\n",
              "      <th>fb_user_8</th>\n",
              "      <th>aon</th>\n",
              "      <th>aug_vbc_3g</th>\n",
              "      <th>jul_vbc_3g</th>\n",
              "      <th>jun_vbc_3g</th>\n",
              "      <th>rech_days_left_6</th>\n",
              "      <th>rech_days_left_7</th>\n",
              "      <th>rech_days_left_8</th>\n",
              "      <th>total_rech_data_amt_6</th>\n",
              "      <th>total_rech_data_amt_7</th>\n",
              "      <th>total_rech_data_amt_8</th>\n",
              "      <th>churn</th>\n",
              "    </tr>\n",
              "  </thead>\n",
              "  <tbody>\n",
              "    <tr>\n",
              "      <th>0</th>\n",
              "      <td>7000842753</td>\n",
              "      <td>109</td>\n",
              "      <td>0.0</td>\n",
              "      <td>0.0</td>\n",
              "      <td>0.0</td>\n",
              "      <td>6/30/2014</td>\n",
              "      <td>7/31/2014</td>\n",
              "      <td>8/31/2014</td>\n",
              "      <td>197.385</td>\n",
              "      <td>214.816</td>\n",
              "      <td>213.803</td>\n",
              "      <td>NaN</td>\n",
              "      <td>NaN</td>\n",
              "      <td>0.00</td>\n",
              "      <td>NaN</td>\n",
              "      <td>NaN</td>\n",
              "      <td>0.00</td>\n",
              "      <td>NaN</td>\n",
              "      <td>NaN</td>\n",
              "      <td>0.00</td>\n",
              "      <td>NaN</td>\n",
              "      <td>NaN</td>\n",
              "      <td>0.00</td>\n",
              "      <td>NaN</td>\n",
              "      <td>NaN</td>\n",
              "      <td>0.00</td>\n",
              "      <td>NaN</td>\n",
              "      <td>NaN</td>\n",
              "      <td>0.00</td>\n",
              "      <td>NaN</td>\n",
              "      <td>NaN</td>\n",
              "      <td>0.00</td>\n",
              "      <td>NaN</td>\n",
              "      <td>NaN</td>\n",
              "      <td>0.00</td>\n",
              "      <td>NaN</td>\n",
              "      <td>NaN</td>\n",
              "      <td>0.00</td>\n",
              "      <td>NaN</td>\n",
              "      <td>NaN</td>\n",
              "      <td>...</td>\n",
              "      <td>1.32</td>\n",
              "      <td>5.75</td>\n",
              "      <td>83.57</td>\n",
              "      <td>150.76</td>\n",
              "      <td>109.61</td>\n",
              "      <td>212.17</td>\n",
              "      <td>212.17</td>\n",
              "      <td>212.17</td>\n",
              "      <td>212.17</td>\n",
              "      <td>212.17</td>\n",
              "      <td>212.17</td>\n",
              "      <td>0.0</td>\n",
              "      <td>0.0</td>\n",
              "      <td>0.0</td>\n",
              "      <td>0</td>\n",
              "      <td>0</td>\n",
              "      <td>0</td>\n",
              "      <td>0</td>\n",
              "      <td>0</td>\n",
              "      <td>0</td>\n",
              "      <td>1</td>\n",
              "      <td>1</td>\n",
              "      <td>1</td>\n",
              "      <td>0</td>\n",
              "      <td>0</td>\n",
              "      <td>0</td>\n",
              "      <td>1.0</td>\n",
              "      <td>1.0</td>\n",
              "      <td>1.0</td>\n",
              "      <td>968</td>\n",
              "      <td>30.40</td>\n",
              "      <td>0.00</td>\n",
              "      <td>101.20</td>\n",
              "      <td>9.0</td>\n",
              "      <td>15.0</td>\n",
              "      <td>23.0</td>\n",
              "      <td>252.0</td>\n",
              "      <td>252.0</td>\n",
              "      <td>252.0</td>\n",
              "      <td>1</td>\n",
              "    </tr>\n",
              "    <tr>\n",
              "      <th>7</th>\n",
              "      <td>7000701601</td>\n",
              "      <td>109</td>\n",
              "      <td>0.0</td>\n",
              "      <td>0.0</td>\n",
              "      <td>0.0</td>\n",
              "      <td>6/30/2014</td>\n",
              "      <td>7/31/2014</td>\n",
              "      <td>8/31/2014</td>\n",
              "      <td>1069.180</td>\n",
              "      <td>1349.850</td>\n",
              "      <td>3171.480</td>\n",
              "      <td>57.84</td>\n",
              "      <td>54.68</td>\n",
              "      <td>52.29</td>\n",
              "      <td>453.43</td>\n",
              "      <td>567.16</td>\n",
              "      <td>325.91</td>\n",
              "      <td>16.23</td>\n",
              "      <td>33.49</td>\n",
              "      <td>31.64</td>\n",
              "      <td>23.74</td>\n",
              "      <td>12.59</td>\n",
              "      <td>38.06</td>\n",
              "      <td>51.39</td>\n",
              "      <td>31.38</td>\n",
              "      <td>40.28</td>\n",
              "      <td>308.63</td>\n",
              "      <td>447.38</td>\n",
              "      <td>162.28</td>\n",
              "      <td>62.13</td>\n",
              "      <td>55.14</td>\n",
              "      <td>53.23</td>\n",
              "      <td>0.0</td>\n",
              "      <td>0.0</td>\n",
              "      <td>0.00</td>\n",
              "      <td>422.16</td>\n",
              "      <td>533.91</td>\n",
              "      <td>255.79</td>\n",
              "      <td>4.30</td>\n",
              "      <td>23.29</td>\n",
              "      <td>...</td>\n",
              "      <td>0.00</td>\n",
              "      <td>0.00</td>\n",
              "      <td>0.00</td>\n",
              "      <td>0.00</td>\n",
              "      <td>0.00</td>\n",
              "      <td>0.00</td>\n",
              "      <td>0.00</td>\n",
              "      <td>0.00</td>\n",
              "      <td>0.00</td>\n",
              "      <td>0.00</td>\n",
              "      <td>0.00</td>\n",
              "      <td>0.0</td>\n",
              "      <td>0.0</td>\n",
              "      <td>0.0</td>\n",
              "      <td>0</td>\n",
              "      <td>0</td>\n",
              "      <td>0</td>\n",
              "      <td>0</td>\n",
              "      <td>0</td>\n",
              "      <td>0</td>\n",
              "      <td>0</td>\n",
              "      <td>0</td>\n",
              "      <td>0</td>\n",
              "      <td>0</td>\n",
              "      <td>0</td>\n",
              "      <td>0</td>\n",
              "      <td>0.0</td>\n",
              "      <td>0.0</td>\n",
              "      <td>0.0</td>\n",
              "      <td>802</td>\n",
              "      <td>57.74</td>\n",
              "      <td>19.38</td>\n",
              "      <td>18.74</td>\n",
              "      <td>3.0</td>\n",
              "      <td>6.0</td>\n",
              "      <td>5.0</td>\n",
              "      <td>0.0</td>\n",
              "      <td>0.0</td>\n",
              "      <td>0.0</td>\n",
              "      <td>1</td>\n",
              "    </tr>\n",
              "    <tr>\n",
              "      <th>8</th>\n",
              "      <td>7001524846</td>\n",
              "      <td>109</td>\n",
              "      <td>0.0</td>\n",
              "      <td>0.0</td>\n",
              "      <td>0.0</td>\n",
              "      <td>6/30/2014</td>\n",
              "      <td>7/31/2014</td>\n",
              "      <td>8/31/2014</td>\n",
              "      <td>378.721</td>\n",
              "      <td>492.223</td>\n",
              "      <td>137.362</td>\n",
              "      <td>413.69</td>\n",
              "      <td>351.03</td>\n",
              "      <td>35.08</td>\n",
              "      <td>94.66</td>\n",
              "      <td>80.63</td>\n",
              "      <td>136.48</td>\n",
              "      <td>0.00</td>\n",
              "      <td>0.00</td>\n",
              "      <td>0.00</td>\n",
              "      <td>0.00</td>\n",
              "      <td>0.00</td>\n",
              "      <td>0.00</td>\n",
              "      <td>297.13</td>\n",
              "      <td>217.59</td>\n",
              "      <td>12.49</td>\n",
              "      <td>80.96</td>\n",
              "      <td>70.58</td>\n",
              "      <td>50.54</td>\n",
              "      <td>0.00</td>\n",
              "      <td>0.00</td>\n",
              "      <td>0.00</td>\n",
              "      <td>0.0</td>\n",
              "      <td>0.0</td>\n",
              "      <td>7.15</td>\n",
              "      <td>378.09</td>\n",
              "      <td>288.18</td>\n",
              "      <td>63.04</td>\n",
              "      <td>116.56</td>\n",
              "      <td>133.43</td>\n",
              "      <td>...</td>\n",
              "      <td>356.00</td>\n",
              "      <td>0.03</td>\n",
              "      <td>0.00</td>\n",
              "      <td>750.95</td>\n",
              "      <td>11.94</td>\n",
              "      <td>0.00</td>\n",
              "      <td>0.00</td>\n",
              "      <td>19.83</td>\n",
              "      <td>0.00</td>\n",
              "      <td>0.00</td>\n",
              "      <td>0.00</td>\n",
              "      <td>0.0</td>\n",
              "      <td>0.0</td>\n",
              "      <td>0.0</td>\n",
              "      <td>0</td>\n",
              "      <td>1</td>\n",
              "      <td>0</td>\n",
              "      <td>0</td>\n",
              "      <td>1</td>\n",
              "      <td>3</td>\n",
              "      <td>0</td>\n",
              "      <td>0</td>\n",
              "      <td>0</td>\n",
              "      <td>0</td>\n",
              "      <td>0</td>\n",
              "      <td>0</td>\n",
              "      <td>0.0</td>\n",
              "      <td>1.0</td>\n",
              "      <td>1.0</td>\n",
              "      <td>315</td>\n",
              "      <td>21.03</td>\n",
              "      <td>910.65</td>\n",
              "      <td>122.16</td>\n",
              "      <td>5.0</td>\n",
              "      <td>0.0</td>\n",
              "      <td>1.0</td>\n",
              "      <td>0.0</td>\n",
              "      <td>354.0</td>\n",
              "      <td>207.0</td>\n",
              "      <td>0</td>\n",
              "    </tr>\n",
              "    <tr>\n",
              "      <th>21</th>\n",
              "      <td>7002124215</td>\n",
              "      <td>109</td>\n",
              "      <td>0.0</td>\n",
              "      <td>0.0</td>\n",
              "      <td>0.0</td>\n",
              "      <td>6/30/2014</td>\n",
              "      <td>7/31/2014</td>\n",
              "      <td>8/31/2014</td>\n",
              "      <td>514.453</td>\n",
              "      <td>597.753</td>\n",
              "      <td>637.760</td>\n",
              "      <td>102.41</td>\n",
              "      <td>132.11</td>\n",
              "      <td>85.14</td>\n",
              "      <td>757.93</td>\n",
              "      <td>896.68</td>\n",
              "      <td>983.39</td>\n",
              "      <td>0.00</td>\n",
              "      <td>0.00</td>\n",
              "      <td>0.00</td>\n",
              "      <td>0.00</td>\n",
              "      <td>0.00</td>\n",
              "      <td>0.00</td>\n",
              "      <td>4.48</td>\n",
              "      <td>6.16</td>\n",
              "      <td>23.34</td>\n",
              "      <td>91.81</td>\n",
              "      <td>87.93</td>\n",
              "      <td>104.81</td>\n",
              "      <td>0.75</td>\n",
              "      <td>0.00</td>\n",
              "      <td>1.58</td>\n",
              "      <td>0.0</td>\n",
              "      <td>0.0</td>\n",
              "      <td>0.00</td>\n",
              "      <td>97.04</td>\n",
              "      <td>94.09</td>\n",
              "      <td>129.74</td>\n",
              "      <td>97.93</td>\n",
              "      <td>125.94</td>\n",
              "      <td>...</td>\n",
              "      <td>0.00</td>\n",
              "      <td>0.00</td>\n",
              "      <td>0.00</td>\n",
              "      <td>0.00</td>\n",
              "      <td>0.00</td>\n",
              "      <td>0.00</td>\n",
              "      <td>0.00</td>\n",
              "      <td>0.00</td>\n",
              "      <td>0.00</td>\n",
              "      <td>0.00</td>\n",
              "      <td>0.00</td>\n",
              "      <td>0.0</td>\n",
              "      <td>0.0</td>\n",
              "      <td>0.0</td>\n",
              "      <td>0</td>\n",
              "      <td>0</td>\n",
              "      <td>0</td>\n",
              "      <td>0</td>\n",
              "      <td>0</td>\n",
              "      <td>0</td>\n",
              "      <td>0</td>\n",
              "      <td>0</td>\n",
              "      <td>0</td>\n",
              "      <td>0</td>\n",
              "      <td>0</td>\n",
              "      <td>0</td>\n",
              "      <td>0.0</td>\n",
              "      <td>0.0</td>\n",
              "      <td>0.0</td>\n",
              "      <td>720</td>\n",
              "      <td>0.00</td>\n",
              "      <td>0.00</td>\n",
              "      <td>0.00</td>\n",
              "      <td>0.0</td>\n",
              "      <td>0.0</td>\n",
              "      <td>0.0</td>\n",
              "      <td>0.0</td>\n",
              "      <td>0.0</td>\n",
              "      <td>0.0</td>\n",
              "      <td>0</td>\n",
              "    </tr>\n",
              "    <tr>\n",
              "      <th>23</th>\n",
              "      <td>7000887461</td>\n",
              "      <td>109</td>\n",
              "      <td>0.0</td>\n",
              "      <td>0.0</td>\n",
              "      <td>0.0</td>\n",
              "      <td>6/30/2014</td>\n",
              "      <td>7/31/2014</td>\n",
              "      <td>8/31/2014</td>\n",
              "      <td>74.350</td>\n",
              "      <td>193.897</td>\n",
              "      <td>366.966</td>\n",
              "      <td>48.96</td>\n",
              "      <td>50.66</td>\n",
              "      <td>33.58</td>\n",
              "      <td>85.41</td>\n",
              "      <td>89.36</td>\n",
              "      <td>205.89</td>\n",
              "      <td>0.00</td>\n",
              "      <td>0.00</td>\n",
              "      <td>0.00</td>\n",
              "      <td>0.00</td>\n",
              "      <td>0.00</td>\n",
              "      <td>0.00</td>\n",
              "      <td>48.96</td>\n",
              "      <td>50.66</td>\n",
              "      <td>33.58</td>\n",
              "      <td>82.94</td>\n",
              "      <td>83.01</td>\n",
              "      <td>148.56</td>\n",
              "      <td>0.00</td>\n",
              "      <td>0.00</td>\n",
              "      <td>0.00</td>\n",
              "      <td>0.0</td>\n",
              "      <td>0.0</td>\n",
              "      <td>17.71</td>\n",
              "      <td>131.91</td>\n",
              "      <td>133.68</td>\n",
              "      <td>182.14</td>\n",
              "      <td>0.00</td>\n",
              "      <td>0.00</td>\n",
              "      <td>...</td>\n",
              "      <td>0.48</td>\n",
              "      <td>0.01</td>\n",
              "      <td>0.00</td>\n",
              "      <td>599.09</td>\n",
              "      <td>1009.92</td>\n",
              "      <td>0.00</td>\n",
              "      <td>306.57</td>\n",
              "      <td>197.27</td>\n",
              "      <td>0.00</td>\n",
              "      <td>301.78</td>\n",
              "      <td>150.67</td>\n",
              "      <td>0.0</td>\n",
              "      <td>0.0</td>\n",
              "      <td>0.0</td>\n",
              "      <td>0</td>\n",
              "      <td>0</td>\n",
              "      <td>0</td>\n",
              "      <td>0</td>\n",
              "      <td>0</td>\n",
              "      <td>0</td>\n",
              "      <td>0</td>\n",
              "      <td>2</td>\n",
              "      <td>1</td>\n",
              "      <td>0</td>\n",
              "      <td>0</td>\n",
              "      <td>1</td>\n",
              "      <td>0.0</td>\n",
              "      <td>1.0</td>\n",
              "      <td>1.0</td>\n",
              "      <td>604</td>\n",
              "      <td>40.45</td>\n",
              "      <td>51.86</td>\n",
              "      <td>0.00</td>\n",
              "      <td>12.0</td>\n",
              "      <td>24.0</td>\n",
              "      <td>7.0</td>\n",
              "      <td>0.0</td>\n",
              "      <td>712.0</td>\n",
              "      <td>540.0</td>\n",
              "      <td>0</td>\n",
              "    </tr>\n",
              "  </tbody>\n",
              "</table>\n",
              "<p>5 rows × 166 columns</p>\n",
              "</div>"
            ],
            "text/plain": [
              "    mobile_number  circle_id  ...  total_rech_data_amt_8  churn\n",
              "0      7000842753        109  ...                  252.0      1\n",
              "7      7000701601        109  ...                    0.0      1\n",
              "8      7001524846        109  ...                  207.0      0\n",
              "21     7002124215        109  ...                    0.0      0\n",
              "23     7000887461        109  ...                  540.0      0\n",
              "\n",
              "[5 rows x 166 columns]"
            ]
          },
          "metadata": {
            "tags": []
          },
          "execution_count": 14
        }
      ]
    },
    {
      "cell_type": "markdown",
      "metadata": {
        "id": "3OVg7lViwXtg"
      },
      "source": [
        "Identify columns that have no varience & Drop"
      ]
    },
    {
      "cell_type": "code",
      "metadata": {
        "id": "Fd0e6CWKwYbg",
        "colab": {
          "base_uri": "https://localhost:8080/"
        },
        "outputId": "3fc1f93f-01f3-4757-e339-7cbc4c85ba76"
      },
      "source": [
        "\n",
        "# Identify columns that have no varience\n",
        "telecom_unique_count = df.nunique().sort_values(ascending=False)\n",
        "#print(\"Dataframe Unique Values: \\n\", telecom_unique_count); print_ln()\n",
        "\n",
        "# Identify bad colums that has no infromation (all entries are NA or same)\n",
        "# Find columns with all NULL entries and add to drop_columns list\n",
        "telecom_unique_count_is_zero = telecom_unique_count[telecom_unique_count == 0]\n",
        "print(\"Dataframe Unique Value Count is ZERO (all null values): \\n\", telecom_unique_count_is_zero); \n",
        "drop_no_varience_columns = list(telecom_unique_count_is_zero.index)\n",
        "\n",
        "# Find columns with all same entries and add to drop_columns list\n",
        "telecom_unique_count_is_one = telecom_unique_count[telecom_unique_count == 1]\n",
        "print(\"Dataframe Unique Value Count is ONE (all same values): \\n\", telecom_unique_count_is_one); \n",
        "drop_no_varience_columns += list(telecom_unique_count_is_one.index)\n",
        "\n",
        "df.drop(drop_no_varience_columns, axis=1, inplace=True)\n",
        "\n",
        "print('Dataframe Shape: ', df.shape)\n",
        "print('Number of columns dropped here  = ', len(drop_no_varience_columns))\n",
        "print('Dataframe Shape: ', df.shape) "
      ],
      "execution_count": 15,
      "outputs": [
        {
          "output_type": "stream",
          "text": [
            "Dataframe Unique Value Count is ZERO (all null values): \n",
            " Series([], dtype: int64)\n",
            "Dataframe Unique Value Count is ONE (all same values): \n",
            " std_ic_t2o_mou_8        1\n",
            "std_ic_t2o_mou_7        1\n",
            "std_ic_t2o_mou_6        1\n",
            "std_og_t2c_mou_7        1\n",
            "std_og_t2c_mou_8        1\n",
            "last_date_of_month_8    1\n",
            "last_date_of_month_7    1\n",
            "last_date_of_month_6    1\n",
            "loc_ic_t2o_mou          1\n",
            "std_og_t2o_mou          1\n",
            "loc_og_t2o_mou          1\n",
            "circle_id               1\n",
            "std_og_t2c_mou_6        1\n",
            "dtype: int64\n",
            "Dataframe Shape:  (30001, 153)\n",
            "Number of columns dropped here  =  13\n",
            "Dataframe Shape:  (30001, 153)\n"
          ],
          "name": "stdout"
        }
      ]
    },
    {
      "cell_type": "markdown",
      "metadata": {
        "id": "JsJzxS4FwycW"
      },
      "source": [
        "Identify and removing the row which has maximum null values"
      ]
    },
    {
      "cell_type": "code",
      "metadata": {
        "id": "4CL7gqSPwzGx",
        "colab": {
          "base_uri": "https://localhost:8080/"
        },
        "outputId": "095057ef-173d-49e3-c6f9-eacdbe29e01d"
      },
      "source": [
        "\n",
        "# small percentage of rows has more than or equal to 27 missing values\n",
        "drop_rows = df.isnull().sum(axis=1) >= 27\n",
        "print(\"Number of rows with >= 27 missing values = {}\".format(drop_rows.sum()))\n",
        "print(\"     % of rows with >= 27 missing values = {} %\".format(drop_rows.sum()/df.shape[0]*100))\n",
        "\n",
        "# drop rows with missing values greater >= 27\n",
        "df = df[df.isnull().sum(axis=1) < 27]\n",
        "print('Dataframe Shape after dropping rows: ', df.shape)"
      ],
      "execution_count": 16,
      "outputs": [
        {
          "output_type": "stream",
          "text": [
            "Number of rows with >= 27 missing values = 1497\n",
            "     % of rows with >= 27 missing values = 4.989833672210926 %\n",
            "Dataframe Shape after dropping rows:  (28504, 153)\n"
          ],
          "name": "stdout"
        }
      ]
    },
    {
      "cell_type": "markdown",
      "metadata": {
        "id": "mEVD4DUq2jfN"
      },
      "source": [
        "Verifying how much imbalenced the dataset is"
      ]
    },
    {
      "cell_type": "code",
      "metadata": {
        "id": "1-l3_HV5xDZF",
        "colab": {
          "base_uri": "https://localhost:8080/"
        },
        "outputId": "1e3d3a37-0a1b-45bf-8d62-4a649783150d"
      },
      "source": [
        "\n",
        "churn  = df[\"churn\"].value_counts()\n",
        "churn_rate = churn[1]/(churn[1] + churn[0])\n",
        "\n",
        "print(\"Total Churn Count     = {}\".format(churn[1]))\n",
        "print(\"Total Not-Churn Count = {}\".format(churn[0]))\n",
        "print(\"Churn Rate            = {:.2f}%\".format(churn_rate*100))"
      ],
      "execution_count": 17,
      "outputs": [
        {
          "output_type": "stream",
          "text": [
            "Total Churn Count     = 1596\n",
            "Total Not-Churn Count = 26908\n",
            "Churn Rate            = 5.60%\n"
          ],
          "name": "stdout"
        }
      ]
    },
    {
      "cell_type": "code",
      "metadata": {
        "id": "2yLRzpMi95SK",
        "colab": {
          "base_uri": "https://localhost:8080/"
        },
        "outputId": "711ac393-5522-4a87-aea5-2dd49a9f64ee"
      },
      "source": [
        "df.shape"
      ],
      "execution_count": 18,
      "outputs": [
        {
          "output_type": "execute_result",
          "data": {
            "text/plain": [
              "(28504, 153)"
            ]
          },
          "metadata": {
            "tags": []
          },
          "execution_count": 18
        }
      ]
    },
    {
      "cell_type": "code",
      "metadata": {
        "id": "iTbWYbgyCNL8",
        "colab": {
          "base_uri": "https://localhost:8080/"
        },
        "outputId": "850b1039-2de9-4ffe-e947-9480b95c2af8"
      },
      "source": [
        "df.info(verbose=all)"
      ],
      "execution_count": 19,
      "outputs": [
        {
          "output_type": "stream",
          "text": [
            "<class 'pandas.core.frame.DataFrame'>\n",
            "Int64Index: 28504 entries, 7 to 99997\n",
            "Data columns (total 153 columns):\n",
            " #   Column                 Dtype  \n",
            "---  ------                 -----  \n",
            " 0   mobile_number          int64  \n",
            " 1   arpu_6                 float64\n",
            " 2   arpu_7                 float64\n",
            " 3   arpu_8                 float64\n",
            " 4   onnet_mou_6            float64\n",
            " 5   onnet_mou_7            float64\n",
            " 6   onnet_mou_8            float64\n",
            " 7   offnet_mou_6           float64\n",
            " 8   offnet_mou_7           float64\n",
            " 9   offnet_mou_8           float64\n",
            " 10  roam_ic_mou_6          float64\n",
            " 11  roam_ic_mou_7          float64\n",
            " 12  roam_ic_mou_8          float64\n",
            " 13  roam_og_mou_6          float64\n",
            " 14  roam_og_mou_7          float64\n",
            " 15  roam_og_mou_8          float64\n",
            " 16  loc_og_t2t_mou_6       float64\n",
            " 17  loc_og_t2t_mou_7       float64\n",
            " 18  loc_og_t2t_mou_8       float64\n",
            " 19  loc_og_t2m_mou_6       float64\n",
            " 20  loc_og_t2m_mou_7       float64\n",
            " 21  loc_og_t2m_mou_8       float64\n",
            " 22  loc_og_t2f_mou_6       float64\n",
            " 23  loc_og_t2f_mou_7       float64\n",
            " 24  loc_og_t2f_mou_8       float64\n",
            " 25  loc_og_t2c_mou_6       float64\n",
            " 26  loc_og_t2c_mou_7       float64\n",
            " 27  loc_og_t2c_mou_8       float64\n",
            " 28  loc_og_mou_6           float64\n",
            " 29  loc_og_mou_7           float64\n",
            " 30  loc_og_mou_8           float64\n",
            " 31  std_og_t2t_mou_6       float64\n",
            " 32  std_og_t2t_mou_7       float64\n",
            " 33  std_og_t2t_mou_8       float64\n",
            " 34  std_og_t2m_mou_6       float64\n",
            " 35  std_og_t2m_mou_7       float64\n",
            " 36  std_og_t2m_mou_8       float64\n",
            " 37  std_og_t2f_mou_6       float64\n",
            " 38  std_og_t2f_mou_7       float64\n",
            " 39  std_og_t2f_mou_8       float64\n",
            " 40  std_og_mou_6           float64\n",
            " 41  std_og_mou_7           float64\n",
            " 42  std_og_mou_8           float64\n",
            " 43  isd_og_mou_6           float64\n",
            " 44  isd_og_mou_7           float64\n",
            " 45  isd_og_mou_8           float64\n",
            " 46  spl_og_mou_6           float64\n",
            " 47  spl_og_mou_7           float64\n",
            " 48  spl_og_mou_8           float64\n",
            " 49  og_others_6            float64\n",
            " 50  og_others_7            float64\n",
            " 51  og_others_8            float64\n",
            " 52  total_og_mou_6         float64\n",
            " 53  total_og_mou_7         float64\n",
            " 54  total_og_mou_8         float64\n",
            " 55  loc_ic_t2t_mou_6       float64\n",
            " 56  loc_ic_t2t_mou_7       float64\n",
            " 57  loc_ic_t2t_mou_8       float64\n",
            " 58  loc_ic_t2m_mou_6       float64\n",
            " 59  loc_ic_t2m_mou_7       float64\n",
            " 60  loc_ic_t2m_mou_8       float64\n",
            " 61  loc_ic_t2f_mou_6       float64\n",
            " 62  loc_ic_t2f_mou_7       float64\n",
            " 63  loc_ic_t2f_mou_8       float64\n",
            " 64  loc_ic_mou_6           float64\n",
            " 65  loc_ic_mou_7           float64\n",
            " 66  loc_ic_mou_8           float64\n",
            " 67  std_ic_t2t_mou_6       float64\n",
            " 68  std_ic_t2t_mou_7       float64\n",
            " 69  std_ic_t2t_mou_8       float64\n",
            " 70  std_ic_t2m_mou_6       float64\n",
            " 71  std_ic_t2m_mou_7       float64\n",
            " 72  std_ic_t2m_mou_8       float64\n",
            " 73  std_ic_t2f_mou_6       float64\n",
            " 74  std_ic_t2f_mou_7       float64\n",
            " 75  std_ic_t2f_mou_8       float64\n",
            " 76  std_ic_mou_6           float64\n",
            " 77  std_ic_mou_7           float64\n",
            " 78  std_ic_mou_8           float64\n",
            " 79  total_ic_mou_6         float64\n",
            " 80  total_ic_mou_7         float64\n",
            " 81  total_ic_mou_8         float64\n",
            " 82  spl_ic_mou_6           float64\n",
            " 83  spl_ic_mou_7           float64\n",
            " 84  spl_ic_mou_8           float64\n",
            " 85  isd_ic_mou_6           float64\n",
            " 86  isd_ic_mou_7           float64\n",
            " 87  isd_ic_mou_8           float64\n",
            " 88  ic_others_6            float64\n",
            " 89  ic_others_7            float64\n",
            " 90  ic_others_8            float64\n",
            " 91  total_rech_num_6       int64  \n",
            " 92  total_rech_num_7       int64  \n",
            " 93  total_rech_num_8       int64  \n",
            " 94  total_rech_amt_6       int64  \n",
            " 95  total_rech_amt_7       int64  \n",
            " 96  total_rech_amt_8       int64  \n",
            " 97  max_rech_amt_6         int64  \n",
            " 98  max_rech_amt_7         int64  \n",
            " 99  max_rech_amt_8         int64  \n",
            " 100 last_day_rch_amt_6     int64  \n",
            " 101 last_day_rch_amt_7     int64  \n",
            " 102 last_day_rch_amt_8     int64  \n",
            " 103 max_rech_data_6        float64\n",
            " 104 max_rech_data_7        float64\n",
            " 105 max_rech_data_8        float64\n",
            " 106 count_rech_2g_6        float64\n",
            " 107 count_rech_2g_7        float64\n",
            " 108 count_rech_2g_8        float64\n",
            " 109 count_rech_3g_6        float64\n",
            " 110 count_rech_3g_7        float64\n",
            " 111 count_rech_3g_8        float64\n",
            " 112 vol_2g_mb_6            float64\n",
            " 113 vol_2g_mb_7            float64\n",
            " 114 vol_2g_mb_8            float64\n",
            " 115 vol_3g_mb_6            float64\n",
            " 116 vol_3g_mb_7            float64\n",
            " 117 vol_3g_mb_8            float64\n",
            " 118 arpu_3g_6              float64\n",
            " 119 arpu_3g_7              float64\n",
            " 120 arpu_3g_8              float64\n",
            " 121 arpu_2g_6              float64\n",
            " 122 arpu_2g_7              float64\n",
            " 123 arpu_2g_8              float64\n",
            " 124 night_pck_user_6       float64\n",
            " 125 night_pck_user_7       float64\n",
            " 126 night_pck_user_8       float64\n",
            " 127 monthly_2g_6           int64  \n",
            " 128 monthly_2g_7           int64  \n",
            " 129 monthly_2g_8           int64  \n",
            " 130 sachet_2g_6            int64  \n",
            " 131 sachet_2g_7            int64  \n",
            " 132 sachet_2g_8            int64  \n",
            " 133 monthly_3g_6           int64  \n",
            " 134 monthly_3g_7           int64  \n",
            " 135 monthly_3g_8           int64  \n",
            " 136 sachet_3g_6            int64  \n",
            " 137 sachet_3g_7            int64  \n",
            " 138 sachet_3g_8            int64  \n",
            " 139 fb_user_6              float64\n",
            " 140 fb_user_7              float64\n",
            " 141 fb_user_8              float64\n",
            " 142 aon                    int64  \n",
            " 143 aug_vbc_3g             float64\n",
            " 144 jul_vbc_3g             float64\n",
            " 145 jun_vbc_3g             float64\n",
            " 146 rech_days_left_6       float64\n",
            " 147 rech_days_left_7       float64\n",
            " 148 rech_days_left_8       float64\n",
            " 149 total_rech_data_amt_6  float64\n",
            " 150 total_rech_data_amt_7  float64\n",
            " 151 total_rech_data_amt_8  float64\n",
            " 152 churn                  int64  \n",
            "dtypes: float64(126), int64(27)\n",
            "memory usage: 33.5 MB\n"
          ],
          "name": "stdout"
        }
      ]
    },
    {
      "cell_type": "code",
      "metadata": {
        "id": "_82yU4rjCWuY"
      },
      "source": [
        "# there are no date columns left to fix them\n",
        "# df.reset_index(inplace=True,drop=True)\n",
        "# # list of all columns which store date\n",
        "# date_columns = list(df.filter(regex='date').columns)\n",
        "# date_columns\n",
        "\n",
        "# # Converting dtype of date columns to datetime\n",
        "# for col in date_columns:\n",
        "#     df[col] = pd.to_datetime(df[col], format='%m/%d/%Y')"
      ],
      "execution_count": 20,
      "outputs": []
    },
    {
      "cell_type": "markdown",
      "metadata": {
        "id": "GaSkD8_Bg0Cx"
      },
      "source": [
        "#EDA"
      ]
    },
    {
      "cell_type": "code",
      "metadata": {
        "colab": {
          "base_uri": "https://localhost:8080/",
          "height": 297
        },
        "id": "YGzpgvrqH7ir",
        "outputId": "70ff9499-00a0-4684-c178-8e28bb0acf0e"
      },
      "source": [
        "sns.distplot(df.arpu_6)"
      ],
      "execution_count": 21,
      "outputs": [
        {
          "output_type": "execute_result",
          "data": {
            "text/plain": [
              "<matplotlib.axes._subplots.AxesSubplot at 0x7fe06d668a20>"
            ]
          },
          "metadata": {
            "tags": []
          },
          "execution_count": 21
        },
        {
          "output_type": "display_data",
          "data": {
            "image/png": "[encoded data removed]",
            "text/plain": [
              "<Figure size 432x288 with 1 Axes>"
            ]
          },
          "metadata": {
            "tags": [],
            "needs_background": "light"
          }
        }
      ]
    },
    {
      "cell_type": "code",
      "metadata": {
        "colab": {
          "base_uri": "https://localhost:8080/",
          "height": 296
        },
        "id": "6R4X1JSCIFOE",
        "outputId": "0e1c34e7-9341-4b71-e2b6-34e7276be165"
      },
      "source": [
        "sns.countplot(x='churn', data=df)"
      ],
      "execution_count": 22,
      "outputs": [
        {
          "output_type": "execute_result",
          "data": {
            "text/plain": [
              "<matplotlib.axes._subplots.AxesSubplot at 0x7fe06e972128>"
            ]
          },
          "metadata": {
            "tags": []
          },
          "execution_count": 22
        },
        {
          "output_type": "display_data",
          "data": {
            "image/png": "[encoded data removed]",
            "text/plain": [
              "<Figure size 432x288 with 1 Axes>"
            ]
          },
          "metadata": {
            "tags": [],
            "needs_background": "light"
          }
        }
      ]
    },
    {
      "cell_type": "markdown",
      "metadata": {
        "id": "UH6uKWKzLVuE"
      },
      "source": [
        "As we observed earlier, churn rate is low in the overall dataset. So we would need to handle the class imbalance."
      ]
    },
    {
      "cell_type": "code",
      "metadata": {
        "colab": {
          "base_uri": "https://localhost:8080/",
          "height": 417
        },
        "id": "HpkYdCQTINla",
        "outputId": "029fac23-ed93-49c6-c6a9-9a3a7df7896a"
      },
      "source": [
        "fig, (ax1, ax2) = plt.subplots(1,2,figsize=(20, 6))\n",
        "\n",
        "# distribution plot for aon\n",
        "sns.distplot(df['aon'], ax=ax1)\n",
        "\n",
        "# bin the aon column with yearwise segments and plot the counts for each segments\n",
        "bins = [0, 0.5, 1, 2, 3, 4, 5, 6, 7, 8, 9, 10, 11, 12]\n",
        "labels = [0.5, 1, 2, 3, 4, 5, 6, 7, 8, 9, 10, 11, 12]\n",
        "#sns.countplot(pd.cut(round(((data['aon']/30)/12),1), bins = bins, labels = labels ), ax =ax1)\n",
        "pd.crosstab(pd.cut(round(((df['aon']/30)/12),1), bins = bins, labels = labels ), df['churn']).plot(kind='bar', stacked=True, ax = ax2)"
      ],
      "execution_count": 23,
      "outputs": [
        {
          "output_type": "execute_result",
          "data": {
            "text/plain": [
              "<matplotlib.axes._subplots.AxesSubplot at 0x7fe06a805828>"
            ]
          },
          "metadata": {
            "tags": []
          },
          "execution_count": 23
        },
        {
          "output_type": "display_data",
          "data": {
            "image/png": "[encoded data removed]",
            "text/plain": [
              "<Figure size 1440x432 with 2 Axes>"
            ]
          },
          "metadata": {
            "tags": [],
            "needs_background": "light"
          }
        }
      ]
    },
    {
      "cell_type": "code",
      "metadata": {
        "id": "EFwlvsLgg2gB",
        "colab": {
          "base_uri": "https://localhost:8080/",
          "height": 386
        },
        "outputId": "47d89d9d-3566-496d-811b-1793834ad125"
      },
      "source": [
        "sns.set_style('whitegrid')\n",
        "sns.FacetGrid(df,hue='churn',size=5).map(plt.scatter,\"total_rech_num_6\",\"total_rech_num_7\").add_legend()"
      ],
      "execution_count": 24,
      "outputs": [
        {
          "output_type": "execute_result",
          "data": {
            "text/plain": [
              "<seaborn.axisgrid.FacetGrid at 0x7fe06a84b940>"
            ]
          },
          "metadata": {
            "tags": []
          },
          "execution_count": 24
        },
        {
          "output_type": "display_data",
          "data": {
            "image/png": "[encoded data removed]",
            "text/plain": [
              "<Figure size 402.375x360 with 1 Axes>"
            ]
          },
          "metadata": {
            "tags": []
          }
        }
      ]
    },
    {
      "cell_type": "code",
      "metadata": {
        "id": "JXIj_lWRkJao",
        "colab": {
          "base_uri": "https://localhost:8080/",
          "height": 386
        },
        "outputId": "eb34fc7b-3c65-4444-9aff-073935d034c4"
      },
      "source": [
        "sns.FacetGrid(df,hue='churn',size=5).map(plt.scatter,\"total_rech_num_7\",\"total_rech_num_8\").add_legend()"
      ],
      "execution_count": 25,
      "outputs": [
        {
          "output_type": "execute_result",
          "data": {
            "text/plain": [
              "<seaborn.axisgrid.FacetGrid at 0x7fe06a84b828>"
            ]
          },
          "metadata": {
            "tags": []
          },
          "execution_count": 25
        },
        {
          "output_type": "display_data",
          "data": {
            "image/png": "[encoded data removed]",
            "text/plain": [
              "<Figure size 402.375x360 with 1 Axes>"
            ]
          },
          "metadata": {
            "tags": []
          }
        }
      ]
    },
    {
      "cell_type": "code",
      "metadata": {
        "id": "cJK1CY4TlFjs",
        "colab": {
          "base_uri": "https://localhost:8080/",
          "height": 312
        },
        "outputId": "e55c619a-bb17-48af-e262-5cff07295d07"
      },
      "source": [
        "#incomming Call\n",
        "colList = ['total_ic_mou_6','total_ic_mou_7','total_ic_mou_8']\n",
        "calltype='Incoming'\n",
        "fig, ax = plt.subplots(figsize=(7,4))\n",
        "z=df.groupby(['churn'])[colList].mean().T\n",
        "plt.plot(z)\n",
        "ax.set_xticklabels(['Jun','Jul','Aug','Sep'])\n",
        "## Add legend\n",
        "plt.legend(['Non-Churn', 'Churn'])\n",
        "# Add titles\n",
        "plt.title(\"Avg. \"+calltype+\" MOU  V/S Month\", loc='left', fontsize=12, fontweight=0, color='orange')\n",
        "plt.xlabel(\"Month\")\n",
        "plt.ylabel(\"Avg. \"+calltype+\" MOU\")"
      ],
      "execution_count": 26,
      "outputs": [
        {
          "output_type": "execute_result",
          "data": {
            "text/plain": [
              "Text(0, 0.5, 'Avg. Incoming MOU')"
            ]
          },
          "metadata": {
            "tags": []
          },
          "execution_count": 26
        },
        {
          "output_type": "display_data",
          "data": {
            "image/png": "[encoded data removed]",
            "text/plain": [
              "<Figure size 504x288 with 1 Axes>"
            ]
          },
          "metadata": {
            "tags": []
          }
        }
      ]
    },
    {
      "cell_type": "code",
      "metadata": {
        "id": "AOxnScAmo4Dr",
        "colab": {
          "base_uri": "https://localhost:8080/",
          "height": 312
        },
        "outputId": "2751cd62-4b86-44d7-de78-2eec57523c4d"
      },
      "source": [
        "#Outgoing  Call\n",
        "colList =  ['total_og_mou_6','total_og_mou_7','total_og_mou_8']\n",
        "calltype='Incoming'\n",
        "fig, ax = plt.subplots(figsize=(7,4))\n",
        "z=df.groupby(['churn'])[colList].mean().T\n",
        "plt.plot(z)\n",
        "ax.set_xticklabels(['Jun','Jul','Aug','Sep'])\n",
        "## Add legend\n",
        "plt.legend(['Non-Churn', 'Churn'])\n",
        "# Add titles\n",
        "plt.title(\"Avg. \"+calltype+\" MOU  V/S Month\", loc='left', fontsize=12, fontweight=0, color='orange')\n",
        "plt.xlabel(\"Month\")\n",
        "plt.ylabel(\"Avg. \"+calltype+\" MOU\")"
      ],
      "execution_count": 27,
      "outputs": [
        {
          "output_type": "execute_result",
          "data": {
            "text/plain": [
              "Text(0, 0.5, 'Avg. Incoming MOU')"
            ]
          },
          "metadata": {
            "tags": []
          },
          "execution_count": 27
        },
        {
          "output_type": "display_data",
          "data": {
            "image/png": "[encoded data removed]",
            "text/plain": [
              "<Figure size 504x288 with 1 Axes>"
            ]
          },
          "metadata": {
            "tags": []
          }
        }
      ]
    },
    {
      "cell_type": "markdown",
      "metadata": {
        "id": "D4Gf1VDDq6Ic"
      },
      "source": [
        "It is expected that the customers who are going to be churn are reducing their call usage as the time passes "
      ]
    },
    {
      "cell_type": "code",
      "metadata": {
        "id": "kT3VV9uuqwDV",
        "colab": {
          "base_uri": "https://localhost:8080/",
          "height": 1000
        },
        "outputId": "addf4b37-a1eb-42b7-a3ea-1b5142ff665d"
      },
      "source": [
        "# Let's see the correlation matrix \n",
        "plt.figure(figsize = (20,20))        # Size of the figure\n",
        "sns.heatmap(df.corr())"
      ],
      "execution_count": 28,
      "outputs": [
        {
          "output_type": "execute_result",
          "data": {
            "text/plain": [
              "<matplotlib.axes._subplots.AxesSubplot at 0x7fe06a50f7f0>"
            ]
          },
          "metadata": {
            "tags": []
          },
          "execution_count": 28
        },
        {
          "output_type": "display_data",
          "data": {
            "image/png": "[encoded data removed]",
            "text/plain": [
              "<Figure size 1440x1440 with 2 Axes>"
            ]
          },
          "metadata": {
            "tags": []
          }
        }
      ]
    },
    {
      "cell_type": "code",
      "metadata": {
        "id": "cDnzR5kMtz5S",
        "colab": {
          "base_uri": "https://localhost:8080/"
        },
        "outputId": "f2a0ed14-04e2-469b-bd45-75b55376b3d1"
      },
      "source": [
        "# Create correlation matrix\n",
        "corr_matrix = df.corr().abs()\n",
        "\n",
        "# Select upper triangle of correlation matrix\n",
        "upper = corr_matrix.where(np.triu(np.ones(corr_matrix.shape), k=1).astype(np.bool))\n",
        "\n",
        "# Find index of feature columns with correlation greater than 0.80\n",
        "high_corr_features = [column for column in upper.columns if any(upper[column] > 0.80)]\n",
        "\n",
        "print(\"HIGHLY CORRELATED FEATURES IN DATA SET:{}\\n\\n{}\".format(len(high_corr_features), high_corr_features))"
      ],
      "execution_count": 29,
      "outputs": [
        {
          "output_type": "stream",
          "text": [
            "HIGHLY CORRELATED FEATURES IN DATA SET:45\n",
            "\n",
            "['onnet_mou_8', 'loc_og_t2t_mou_8', 'loc_og_t2m_mou_8', 'loc_og_t2f_mou_7', 'loc_og_mou_6', 'loc_og_mou_7', 'loc_og_mou_8', 'std_og_t2t_mou_6', 'std_og_t2t_mou_7', 'std_og_t2t_mou_8', 'std_og_t2m_mou_6', 'std_og_t2m_mou_7', 'std_og_t2m_mou_8', 'isd_og_mou_7', 'isd_og_mou_8', 'total_og_mou_6', 'total_og_mou_7', 'total_og_mou_8', 'loc_ic_t2t_mou_7', 'loc_ic_t2t_mou_8', 'loc_ic_t2m_mou_8', 'loc_ic_mou_6', 'loc_ic_mou_7', 'loc_ic_mou_8', 'std_ic_mou_6', 'std_ic_mou_7', 'std_ic_mou_8', 'total_ic_mou_6', 'total_ic_mou_7', 'total_ic_mou_8', 'total_rech_amt_6', 'total_rech_amt_7', 'total_rech_amt_8', 'arpu_2g_6', 'arpu_2g_7', 'arpu_2g_8', 'sachet_2g_6', 'sachet_2g_7', 'sachet_2g_8', 'monthly_3g_6', 'monthly_3g_7', 'monthly_3g_8', 'sachet_3g_6', 'sachet_3g_7', 'sachet_3g_8']\n"
          ],
          "name": "stdout"
        }
      ]
    },
    {
      "cell_type": "markdown",
      "metadata": {
        "id": "6Avl8vtzspjH"
      },
      "source": [
        "# Data modeling "
      ]
    },
    {
      "cell_type": "code",
      "metadata": {
        "colab": {
          "base_uri": "https://localhost:8080/"
        },
        "id": "JSoQnJ6VsozB",
        "outputId": "823df862-9f4e-4c71-9839-cb0e94b4eb46"
      },
      "source": [
        "df.shape"
      ],
      "execution_count": 30,
      "outputs": [
        {
          "output_type": "execute_result",
          "data": {
            "text/plain": [
              "(28504, 153)"
            ]
          },
          "metadata": {
            "tags": []
          },
          "execution_count": 30
        }
      ]
    },
    {
      "cell_type": "code",
      "metadata": {
        "id": "zo9K5DYHtwee"
      },
      "source": [
        "# Drop MemberID/Phone-number as it wont have any influence on weather a customer would churn or not\n",
        "df = df.drop(['mobile_number'], axis=1)\n",
        "\n",
        "# Creating dependent and indepedent variable set\n",
        "X = df.drop(['churn'], axis=1)\n",
        "y = df['churn']\n",
        "\n",
        "\n",
        "\n",
        "# Split in train & Test\n",
        "from sklearn.model_selection import train_test_split\n",
        "\n",
        "X_train, X_test, y_train, y_test = train_test_split(X, y, test_size=0.3, train_size=0.7, random_state=42)"
      ],
      "execution_count": 31,
      "outputs": []
    },
    {
      "cell_type": "code",
      "metadata": {
        "id": "0GRqzsxzuuAb"
      },
      "source": [
        "# lets scale the data\n",
        "from sklearn.preprocessing import StandardScaler\n",
        "\n",
        "scaler = StandardScaler()\n",
        "X_train = scaler.fit_transform(X_train)\n",
        "X_test = scaler.transform(X_test)"
      ],
      "execution_count": 32,
      "outputs": []
    },
    {
      "cell_type": "code",
      "metadata": {
        "colab": {
          "base_uri": "https://localhost:8080/"
        },
        "id": "ygH1ULThvWit",
        "outputId": "14f5e0b4-01da-4d8f-c1f2-a0d5ae508334"
      },
      "source": [
        "\n",
        "churns=(y_train != 0).sum()\n",
        "notchurns=(y_train != 1).sum()\n",
        "print(\"Imbalance in Train Data: {0} churns and {1} not churns. Churn ratio is {2}\".format(churns,notchurns,(churns/(churns+notchurns))))\n"
      ],
      "execution_count": 33,
      "outputs": [
        {
          "output_type": "stream",
          "text": [
            "Imbalance in Train Data: 1154 churns and 18798 not churns. Churn ratio is 0.05783881315156375\n"
          ],
          "name": "stdout"
        }
      ]
    },
    {
      "cell_type": "markdown",
      "metadata": {
        "id": "U76G3MGhvrlP"
      },
      "source": [
        "Balance data set by oversampling"
      ]
    },
    {
      "cell_type": "code",
      "metadata": {
        "colab": {
          "base_uri": "https://localhost:8080/"
        },
        "id": "YMC7wGZDvsYN",
        "outputId": "e9d06110-37f5-43a0-a57b-3db6102b9ad4"
      },
      "source": [
        "\n",
        "# (Training) Balance Data-Set --- SMOT\n",
        "from imblearn.over_sampling import SMOTE\n",
        "\n",
        "sm = SMOTE(kind = \"regular\",random_state=42,ratio=1.0)\n",
        "X_tr,y_tr = sm.fit_sample(X_train,y_train)\n",
        "\n",
        "\n",
        "\n",
        "churns=(y_tr != 0).sum()\n",
        "notchurns=(y_tr != 1).sum()\n",
        "print(\"Imbalance in Train Data: {0} churns and {1} not churns. Churn ratio is {2}\".format(churns,notchurns,(churns/(churns+notchurns))))"
      ],
      "execution_count": 34,
      "outputs": [
        {
          "output_type": "stream",
          "text": [
            "Imbalance in Train Data: 18798 churns and 18798 not churns. Churn ratio is 0.5\n"
          ],
          "name": "stdout"
        }
      ]
    },
    {
      "cell_type": "markdown",
      "metadata": {
        "id": "InhlLsaK19Ja"
      },
      "source": [
        "As you can see now both classes has a ration of 50-50 so now the data is balanced."
      ]
    },
    {
      "cell_type": "markdown",
      "metadata": {
        "id": "c2eipJvdv7-V"
      },
      "source": [
        "Feature reduction using RFE"
      ]
    },
    {
      "cell_type": "code",
      "metadata": {
        "id": "K5BRCdfNv0RI"
      },
      "source": [
        "\n",
        "# Feature reduction using RFE\n",
        "from sklearn.linear_model import LogisticRegression\n",
        "logreg = LogisticRegression()\n",
        "from sklearn.feature_selection import RFE\n",
        "\n",
        "# running RFE with 20 variables as output\n",
        "rfe = RFE(logreg, 20)   \n",
        "rfe = rfe.fit(X_tr, y_tr)"
      ],
      "execution_count": 35,
      "outputs": []
    },
    {
      "cell_type": "code",
      "metadata": {
        "colab": {
          "base_uri": "https://localhost:8080/"
        },
        "id": "pJpza_WSv-9u",
        "outputId": "884395e5-8d31-4c2d-a367-f9a037f9edc5"
      },
      "source": [
        "rfe_features = list(X.columns[rfe.support_])\n",
        "print(\"Features identified by RFE for model buidling: \", rfe_features)"
      ],
      "execution_count": 36,
      "outputs": [
        {
          "output_type": "stream",
          "text": [
            "Features identified by RFE for model buidling:  ['arpu_8', 'onnet_mou_7', 'std_og_t2m_mou_7', 'std_og_mou_8', 'total_og_mou_8', 'loc_ic_t2t_mou_7', 'loc_ic_t2m_mou_6', 'loc_ic_t2m_mou_7', 'loc_ic_t2m_mou_8', 'loc_ic_mou_8', 'std_ic_t2t_mou_8', 'total_rech_amt_8', 'max_rech_amt_8', 'last_day_rch_amt_8', 'max_rech_data_8', 'count_rech_2g_8', 'vol_3g_mb_8', 'arpu_3g_8', 'aon', 'rech_days_left_8']\n"
          ],
          "name": "stdout"
        }
      ]
    },
    {
      "cell_type": "markdown",
      "metadata": {
        "id": "gxelm4h5Wj04"
      },
      "source": [
        "#Creating predictive models"
      ]
    },
    {
      "cell_type": "markdown",
      "metadata": {
        "id": "rhzyzDQU3Nl-"
      },
      "source": [
        "Logistic Regression Model"
      ]
    },
    {
      "cell_type": "code",
      "metadata": {
        "id": "Hh76fsYp2zfI"
      },
      "source": [
        "X_rfe = pd.DataFrame(data=X_tr).iloc[:, rfe.support_]\n",
        "y_rfe = y_tr"
      ],
      "execution_count": 37,
      "outputs": []
    },
    {
      "cell_type": "code",
      "metadata": {
        "colab": {
          "base_uri": "https://localhost:8080/"
        },
        "id": "GfoLLpJY3Teu",
        "outputId": "af1d8f7a-2d27-4af2-c12c-83966502bc8c"
      },
      "source": [
        "from sklearn.linear_model import LogisticRegression\n",
        "classifier = LogisticRegression(random_state=42)\n",
        "classifier.fit(X_rfe, y_rfe)\n",
        "\n",
        "X_test_rfe = pd.DataFrame(data=X_test).iloc[:, rfe.support_]\n",
        "\n",
        "y_pred = classifier.predict(X_test_rfe)\n",
        "\n",
        "from sklearn.metrics import confusion_matrix\n",
        "confusion_matrix = confusion_matrix(y_test, y_pred)\n",
        "print(confusion_matrix)"
      ],
      "execution_count": 38,
      "outputs": [
        {
          "output_type": "stream",
          "text": [
            "[[6490 1620]\n",
            " [  73  369]]\n"
          ],
          "name": "stdout"
        }
      ]
    },
    {
      "cell_type": "code",
      "metadata": {
        "colab": {
          "base_uri": "https://localhost:8080/"
        },
        "id": "ILw_CF803eRe",
        "outputId": "7a550deb-2b6b-4b88-9967-2b1902f1f8c6"
      },
      "source": [
        "\n",
        "print('Accuracy of logistic regression classifier on test set: {:.2f}'.format(classifier.score(X_test_rfe, y_test)))"
      ],
      "execution_count": 39,
      "outputs": [
        {
          "output_type": "stream",
          "text": [
            "Accuracy of logistic regression classifier on test set: 0.80\n"
          ],
          "name": "stdout"
        }
      ]
    },
    {
      "cell_type": "code",
      "metadata": {
        "colab": {
          "base_uri": "https://localhost:8080/"
        },
        "id": "AqpipgGM3hiG",
        "outputId": "d95da4c9-3a40-4171-eeb5-8139e2911115"
      },
      "source": [
        "\n",
        "from sklearn.metrics import classification_report\n",
        "print(classification_report(y_test, y_pred))"
      ],
      "execution_count": 40,
      "outputs": [
        {
          "output_type": "stream",
          "text": [
            "              precision    recall  f1-score   support\n",
            "\n",
            "           0       0.99      0.80      0.88      8110\n",
            "           1       0.19      0.83      0.30       442\n",
            "\n",
            "    accuracy                           0.80      8552\n",
            "   macro avg       0.59      0.82      0.59      8552\n",
            "weighted avg       0.95      0.80      0.85      8552\n",
            "\n"
          ],
          "name": "stdout"
        }
      ]
    },
    {
      "cell_type": "markdown",
      "metadata": {
        "id": "Jti_op1T304f"
      },
      "source": [
        "Few of the observation that we can make here is\n",
        "\n",
        "\n",
        "1.   Model gets a accuracy of 80%\n",
        "2.   Model has a high false positive which is a drawback\n",
        "3.   Model has key features which are as folllows <br/>\n",
        "**['arpu_8', 'onnet_mou_7', 'std_og_t2m_mou_7', 'std_og_mou_8', 'total_og_mou_8', 'loc_ic_t2t_mou_7', 'loc_ic_t2m_mou_6', 'loc_ic_t2m_mou_7', 'loc_ic_t2m_mou_8', 'loc_ic_mou_8', 'std_ic_t2t_mou_8', 'total_rech_amt_8', 'max_rech_amt_8', 'last_day_rch_amt_8', 'max_rech_data_8', 'count_rech_2g_8', 'vol_3g_mb_8', 'arpu_3g_8', 'aon', 'rech_days_left_8']**\n"
      ]
    },
    {
      "cell_type": "markdown",
      "metadata": {
        "id": "WIwzmd73Wuq0"
      },
      "source": [
        "#Improving the existing model"
      ]
    },
    {
      "cell_type": "markdown",
      "metadata": {
        "id": "6hDEDsrn5DOJ"
      },
      "source": [
        "Applying PCA"
      ]
    },
    {
      "cell_type": "code",
      "metadata": {
        "colab": {
          "base_uri": "https://localhost:8080/"
        },
        "id": "G33ooplQ3nh2",
        "outputId": "916dc28f-6cb5-4914-a144-cca224910230"
      },
      "source": [
        "#Improting the PCA module\n",
        "from sklearn.decomposition import PCA\n",
        "pca = PCA(random_state=100)\n",
        "\n",
        "#Doing the PCA on the train data\n",
        "pca.fit(X_tr)\n",
        "\n",
        "\n",
        "df_train_pca = pca.fit_transform(X_tr)\n",
        "print(df_train_pca.shape)\n",
        "\n",
        "df_test_pca = pca.transform(X_test)\n",
        "print(df_test_pca.shape)"
      ],
      "execution_count": 41,
      "outputs": [
        {
          "output_type": "stream",
          "text": [
            "(37596, 151)\n",
            "(8552, 151)\n"
          ],
          "name": "stdout"
        }
      ]
    },
    {
      "cell_type": "code",
      "metadata": {
        "id": "yPNSjZTC5R05"
      },
      "source": [
        "# Apply Logistic regression\n",
        "# Let's run the model using the selected variables\n",
        "logsk = LogisticRegression(random_state=42)\n",
        "logsk.fit(df_train_pca, y_tr)\n",
        "\n",
        "# Predicted probabilities\n",
        "y_pred = logsk.predict(df_test_pca)\n",
        "# Converting y_pred to a dataframe which is an array\n",
        "y_pred_df = pd.DataFrame(y_pred)"
      ],
      "execution_count": 42,
      "outputs": []
    },
    {
      "cell_type": "code",
      "metadata": {
        "colab": {
          "base_uri": "https://localhost:8080/"
        },
        "id": "rc3S7gqe5jfA",
        "outputId": "794ff444-5b2f-4b91-e994-46b45a1fea6d"
      },
      "source": [
        "\n",
        "# Importing classification report and confusion matrix from sklearn metrics\n",
        "from sklearn.metrics import  confusion_matrix, accuracy_score\n",
        "\n",
        "\n",
        "# Printing confusion matrix\n",
        "print(confusion_matrix(y_test,y_pred))"
      ],
      "execution_count": 43,
      "outputs": [
        {
          "output_type": "stream",
          "text": [
            "[[6671 1439]\n",
            " [  85  357]]\n"
          ],
          "name": "stdout"
        }
      ]
    },
    {
      "cell_type": "code",
      "metadata": {
        "colab": {
          "base_uri": "https://localhost:8080/"
        },
        "id": "Cq0QqXd473dh",
        "outputId": "00fd4b25-19b8-4665-b854-34ea56a22d94"
      },
      "source": [
        "print(\"LogisticRegression accuracy with {0} PCA: {1} %\".format(len(pca.components_),round(accuracy_score(y_test,y_pred)*100,2)))"
      ],
      "execution_count": 44,
      "outputs": [
        {
          "output_type": "stream",
          "text": [
            "LogisticRegression accuracy with 151 PCA: 82.18 %\n"
          ],
          "name": "stdout"
        }
      ]
    },
    {
      "cell_type": "code",
      "metadata": {
        "colab": {
          "base_uri": "https://localhost:8080/"
        },
        "id": "tsUTvjnHME1f",
        "outputId": "f0c22d14-03c0-4945-bc86-cdd2b212f2a1"
      },
      "source": [
        "pca.components_"
      ],
      "execution_count": 45,
      "outputs": [
        {
          "output_type": "execute_result",
          "data": {
            "text/plain": [
              "array([[ 9.83145222e-02,  9.23199582e-02,  4.25633861e-02, ...,\n",
              "        -9.74425287e-02, -9.57537500e-02, -7.22643210e-02],\n",
              "       [ 1.39781170e-01,  1.59887097e-01,  1.73169637e-01, ...,\n",
              "         1.71020699e-02,  2.32172057e-02,  2.99928806e-02],\n",
              "       [ 1.63860834e-03, -1.23076313e-02, -1.03840726e-02, ...,\n",
              "        -4.76155412e-02, -5.41064430e-02, -4.63811819e-02],\n",
              "       ...,\n",
              "       [ 0.00000000e+00,  2.18069386e-17, -2.11247716e-17, ...,\n",
              "        -5.47989676e-17,  3.38192185e-17, -1.41783356e-17],\n",
              "       [ 0.00000000e+00,  3.69661376e-16, -1.29998890e-16, ...,\n",
              "        -5.04521879e-17, -8.02210049e-17, -2.10285595e-17],\n",
              "       [ 0.00000000e+00,  1.39386822e-16,  8.30099016e-17, ...,\n",
              "         8.23808845e-17, -3.32594940e-17, -1.21231114e-17]])"
            ]
          },
          "metadata": {
            "tags": []
          },
          "execution_count": 45
        }
      ]
    },
    {
      "cell_type": "code",
      "metadata": {
        "colab": {
          "base_uri": "https://localhost:8080/",
          "height": 359
        },
        "id": "ZuDMAbAjMWu9",
        "outputId": "4826bcc8-2bae-477d-c291-e70e71bf597d"
      },
      "source": [
        "colnames = list(X.columns)\n",
        "pcs_df = pd.DataFrame({'PC1':pca.components_[0],'PC2':pca.components_[1], 'PC3':pca.components_[2],'Feature':colnames})\n",
        "pcs_df.head(10)"
      ],
      "execution_count": 46,
      "outputs": [
        {
          "output_type": "execute_result",
          "data": {
            "text/html": [
              "<div>\n",
              "<style scoped>\n",
              "    .dataframe tbody tr th:only-of-type {\n",
              "        vertical-align: middle;\n",
              "    }\n",
              "\n",
              "    .dataframe tbody tr th {\n",
              "        vertical-align: top;\n",
              "    }\n",
              "\n",
              "    .dataframe thead th {\n",
              "        text-align: right;\n",
              "    }\n",
              "</style>\n",
              "<table border=\"1\" class=\"dataframe\">\n",
              "  <thead>\n",
              "    <tr style=\"text-align: right;\">\n",
              "      <th></th>\n",
              "      <th>PC1</th>\n",
              "      <th>PC2</th>\n",
              "      <th>PC3</th>\n",
              "      <th>Feature</th>\n",
              "    </tr>\n",
              "  </thead>\n",
              "  <tbody>\n",
              "    <tr>\n",
              "      <th>0</th>\n",
              "      <td>0.098315</td>\n",
              "      <td>0.139781</td>\n",
              "      <td>0.001639</td>\n",
              "      <td>arpu_6</td>\n",
              "    </tr>\n",
              "    <tr>\n",
              "      <th>1</th>\n",
              "      <td>0.092320</td>\n",
              "      <td>0.159887</td>\n",
              "      <td>-0.012308</td>\n",
              "      <td>arpu_7</td>\n",
              "    </tr>\n",
              "    <tr>\n",
              "      <th>2</th>\n",
              "      <td>0.042563</td>\n",
              "      <td>0.173170</td>\n",
              "      <td>-0.010384</td>\n",
              "      <td>arpu_8</td>\n",
              "    </tr>\n",
              "    <tr>\n",
              "      <th>3</th>\n",
              "      <td>0.166135</td>\n",
              "      <td>0.013820</td>\n",
              "      <td>-0.057418</td>\n",
              "      <td>onnet_mou_6</td>\n",
              "    </tr>\n",
              "    <tr>\n",
              "      <th>4</th>\n",
              "      <td>0.161848</td>\n",
              "      <td>0.031750</td>\n",
              "      <td>-0.067457</td>\n",
              "      <td>onnet_mou_7</td>\n",
              "    </tr>\n",
              "    <tr>\n",
              "      <th>5</th>\n",
              "      <td>0.100760</td>\n",
              "      <td>0.058857</td>\n",
              "      <td>-0.052746</td>\n",
              "      <td>onnet_mou_8</td>\n",
              "    </tr>\n",
              "    <tr>\n",
              "      <th>6</th>\n",
              "      <td>0.165608</td>\n",
              "      <td>0.090183</td>\n",
              "      <td>-0.017262</td>\n",
              "      <td>offnet_mou_6</td>\n",
              "    </tr>\n",
              "    <tr>\n",
              "      <th>7</th>\n",
              "      <td>0.162639</td>\n",
              "      <td>0.107421</td>\n",
              "      <td>-0.029382</td>\n",
              "      <td>offnet_mou_7</td>\n",
              "    </tr>\n",
              "    <tr>\n",
              "      <th>8</th>\n",
              "      <td>0.088287</td>\n",
              "      <td>0.114721</td>\n",
              "      <td>-0.029871</td>\n",
              "      <td>offnet_mou_8</td>\n",
              "    </tr>\n",
              "    <tr>\n",
              "      <th>9</th>\n",
              "      <td>0.012658</td>\n",
              "      <td>0.024919</td>\n",
              "      <td>0.205765</td>\n",
              "      <td>roam_ic_mou_6</td>\n",
              "    </tr>\n",
              "  </tbody>\n",
              "</table>\n",
              "</div>"
            ],
            "text/plain": [
              "        PC1       PC2       PC3        Feature\n",
              "0  0.098315  0.139781  0.001639         arpu_6\n",
              "1  0.092320  0.159887 -0.012308         arpu_7\n",
              "2  0.042563  0.173170 -0.010384         arpu_8\n",
              "3  0.166135  0.013820 -0.057418    onnet_mou_6\n",
              "4  0.161848  0.031750 -0.067457    onnet_mou_7\n",
              "5  0.100760  0.058857 -0.052746    onnet_mou_8\n",
              "6  0.165608  0.090183 -0.017262   offnet_mou_6\n",
              "7  0.162639  0.107421 -0.029382   offnet_mou_7\n",
              "8  0.088287  0.114721 -0.029871   offnet_mou_8\n",
              "9  0.012658  0.024919  0.205765  roam_ic_mou_6"
            ]
          },
          "metadata": {
            "tags": []
          },
          "execution_count": 46
        }
      ]
    },
    {
      "cell_type": "code",
      "metadata": {
        "colab": {
          "base_uri": "https://localhost:8080/",
          "height": 497
        },
        "id": "W___-LZ0MbB3",
        "outputId": "4ae88d16-3c4b-48eb-fa32-35a79202baf9"
      },
      "source": [
        "\n",
        "#Making the screeplot - plotting the cumulative variance against the number of components\n",
        "%matplotlib inline\n",
        "fig = plt.figure(figsize = (12,8))\n",
        "plt.plot(np.cumsum(pca.explained_variance_ratio_))\n",
        "plt.xlabel('number of components')\n",
        "plt.ylabel('cumulative explained variance')\n",
        "plt.show()"
      ],
      "execution_count": 47,
      "outputs": [
        {
          "output_type": "display_data",
          "data": {
            "image/png": "[encoded data removed]",
            "text/plain": [
              "<Figure size 864x576 with 1 Axes>"
            ]
          },
          "metadata": {
            "tags": [],
            "needs_background": "light"
          }
        }
      ]
    },
    {
      "cell_type": "code",
      "metadata": {
        "colab": {
          "base_uri": "https://localhost:8080/"
        },
        "id": "CYUVtKzgMhHd",
        "outputId": "ffaad8b9-0b69-4019-9435-8d3764ba843e"
      },
      "source": [
        "np.cumsum(np.round(pca.explained_variance_ratio_, decimals=4)*100)"
      ],
      "execution_count": 48,
      "outputs": [
        {
          "output_type": "execute_result",
          "data": {
            "text/plain": [
              "array([10.63, 18.93, 25.24, 31.11, 36.57, 40.52, 44.31, 47.93, 50.63,\n",
              "       52.81, 54.9 , 56.74, 58.44, 60.09, 61.59, 63.05, 64.45, 65.76,\n",
              "       67.05, 68.31, 69.56, 70.73, 71.84, 72.9 , 73.87, 74.79, 75.59,\n",
              "       76.39, 77.18, 77.96, 78.69, 79.4 , 80.05, 80.69, 81.32, 81.93,\n",
              "       82.52, 83.1 , 83.66, 84.2 , 84.72, 85.24, 85.73, 86.21, 86.69,\n",
              "       87.14, 87.58, 88.02, 88.44, 88.85, 89.26, 89.65, 90.04, 90.42,\n",
              "       90.78, 91.14, 91.48, 91.8 , 92.1 , 92.38, 92.66, 92.92, 93.18,\n",
              "       93.43, 93.68, 93.92, 94.15, 94.38, 94.59, 94.79, 94.98, 95.17,\n",
              "       95.36, 95.54, 95.72, 95.9 , 96.07, 96.24, 96.41, 96.57, 96.73,\n",
              "       96.89, 97.05, 97.2 , 97.35, 97.5 , 97.64, 97.77, 97.9 , 98.03,\n",
              "       98.16, 98.28, 98.39, 98.5 , 98.6 , 98.7 , 98.8 , 98.89, 98.98,\n",
              "       99.07, 99.15, 99.23, 99.3 , 99.36, 99.42, 99.48, 99.54, 99.59,\n",
              "       99.64, 99.69, 99.73, 99.77, 99.81, 99.84, 99.86, 99.88, 99.9 ,\n",
              "       99.92, 99.94, 99.95, 99.96, 99.97, 99.97, 99.97, 99.97, 99.97,\n",
              "       99.97, 99.97, 99.97, 99.97, 99.97, 99.97, 99.97, 99.97, 99.97,\n",
              "       99.97, 99.97, 99.97, 99.97, 99.97, 99.97, 99.97, 99.97, 99.97,\n",
              "       99.97, 99.97, 99.97, 99.97, 99.97, 99.97, 99.97])"
            ]
          },
          "metadata": {
            "tags": []
          },
          "execution_count": 48
        }
      ]
    },
    {
      "cell_type": "code",
      "metadata": {
        "colab": {
          "base_uri": "https://localhost:8080/"
        },
        "id": "CqPRYGy6Mvbq",
        "outputId": "80faf2e4-15d4-48c3-9d59-4650fe904158"
      },
      "source": [
        "#Apply logistic regression with 48 columns (90% explained variance)\n",
        "\n",
        "\n",
        "pca48 = PCA(n_components=48)\n",
        "\n",
        "df_train_pca48 = pca48.fit_transform(X_tr)\n",
        "print(df_train_pca48.shape)\n",
        "df_test_pca48 = pca48.transform(X_test)\n",
        "print(df_test_pca48.shape)\n",
        "\n",
        "\n",
        "from sklearn.linear_model import LogisticRegression\n",
        "from sklearn import metrics\n",
        "logsk1 = LogisticRegression(random_state=42)\n",
        "logsk1.fit(df_train_pca48, y_tr)\n",
        "\n",
        "# Predicted probabilities\n",
        "y_pred48 = logsk1.predict(df_test_pca48)\n",
        "# Converting y_pred to a dataframe which is an array\n",
        "y_pred_df = pd.DataFrame(y_pred48)"
      ],
      "execution_count": 49,
      "outputs": [
        {
          "output_type": "stream",
          "text": [
            "(37596, 48)\n",
            "(8552, 48)\n"
          ],
          "name": "stdout"
        }
      ]
    },
    {
      "cell_type": "code",
      "metadata": {
        "colab": {
          "base_uri": "https://localhost:8080/"
        },
        "id": "KSwAqpG-Nd-9",
        "outputId": "7c07cc2c-16e0-4712-8cda-c7cb94c29c6c"
      },
      "source": [
        "# Printing confusion matrix\n",
        "print(confusion_matrix(y_test,y_pred48))"
      ],
      "execution_count": 50,
      "outputs": [
        {
          "output_type": "stream",
          "text": [
            "[[6634 1476]\n",
            " [  82  360]]\n"
          ],
          "name": "stdout"
        }
      ]
    },
    {
      "cell_type": "code",
      "metadata": {
        "colab": {
          "base_uri": "https://localhost:8080/"
        },
        "id": "AVeEwdktCDKk",
        "outputId": "7828fe09-50ff-4bcf-f9aa-ec932278c3a2"
      },
      "source": [
        "print(classification_report(y_test, y_pred48))"
      ],
      "execution_count": 51,
      "outputs": [
        {
          "output_type": "stream",
          "text": [
            "              precision    recall  f1-score   support\n",
            "\n",
            "           0       0.99      0.82      0.89      8110\n",
            "           1       0.20      0.81      0.32       442\n",
            "\n",
            "    accuracy                           0.82      8552\n",
            "   macro avg       0.59      0.82      0.61      8552\n",
            "weighted avg       0.95      0.82      0.86      8552\n",
            "\n"
          ],
          "name": "stdout"
        }
      ]
    },
    {
      "cell_type": "code",
      "metadata": {
        "id": "QTlOUFVgItb1"
      },
      "source": [
        "from sklearn.metrics import roc_auc_score"
      ],
      "execution_count": 52,
      "outputs": []
    },
    {
      "cell_type": "code",
      "metadata": {
        "colab": {
          "base_uri": "https://localhost:8080/"
        },
        "id": "12MvTZE3Bzf6",
        "outputId": "15c6be52-c2d6-4df3-fca6-ea207dddf1e9"
      },
      "source": [
        "# check area under curve\n",
        "print(\"AUC:    \\t\", round(roc_auc_score(y_test, y_pred48),2))"
      ],
      "execution_count": 53,
      "outputs": [
        {
          "output_type": "stream",
          "text": [
            "AUC:    \t 0.82\n"
          ],
          "name": "stdout"
        }
      ]
    },
    {
      "cell_type": "code",
      "metadata": {
        "colab": {
          "base_uri": "https://localhost:8080/"
        },
        "id": "cRchJnI9Nh_F",
        "outputId": "ec4eb086-b1cc-4943-fd33-91189a89d684"
      },
      "source": [
        "print(\"LogisticRegression accuracy with {0} PCA: {1} %\".format(len(pca48.components_),round(accuracy_score(y_test,y_pred48)*100,2)))"
      ],
      "execution_count": 54,
      "outputs": [
        {
          "output_type": "stream",
          "text": [
            "LogisticRegression accuracy with 48 PCA: 81.78 %\n"
          ],
          "name": "stdout"
        }
      ]
    },
    {
      "cell_type": "markdown",
      "metadata": {
        "id": "VohWiYEEPAhw"
      },
      "source": [
        "Using Advance Machine learning"
      ]
    },
    {
      "cell_type": "code",
      "metadata": {
        "colab": {
          "base_uri": "https://localhost:8080/"
        },
        "id": "aUBnE9roNkmq",
        "outputId": "4d0d633d-086b-4d53-ca2e-04c2def92fa5"
      },
      "source": [
        "from sklearn.svm import LinearSVC\n",
        "from sklearn.feature_selection import SelectFromModel\n",
        " \n",
        "lsvc = LinearSVC(C=0.001, penalty=\"l1\", dual=False).fit(X_tr, y_tr)\n",
        "model = SelectFromModel(lsvc, prefit=True)\n",
        "X_lasso = model.transform(X_tr)\n",
        "pos = model.get_support(indices=True)\n",
        " ### Feature reduction using RFE\n",
        "print(X_lasso.shape)\n",
        "print(pos)"
      ],
      "execution_count": 55,
      "outputs": [
        {
          "output_type": "stream",
          "text": [
            "(37596, 45)\n",
            "[  1  10  11  13  14  20  23  29  30  38  39  40  47  49  52  53  57  59\n",
            "  65  68  78  79  80  83  84  91  92  93  98 101 104 107 108 109 113 116\n",
            " 126 127 128 129 140 141 145 146 147]\n"
          ],
          "name": "stdout"
        }
      ]
    },
    {
      "cell_type": "code",
      "metadata": {
        "colab": {
          "base_uri": "https://localhost:8080/"
        },
        "id": "3_203HXZPKO-",
        "outputId": "fcaabfcc-8140-499e-ea7b-e3a3f36ecf7b"
      },
      "source": [
        "lasso_features = list(X.columns[pos])\n",
        "print(\"Features identified by LASSO for model buidling: \", lasso_features)"
      ],
      "execution_count": 56,
      "outputs": [
        {
          "output_type": "stream",
          "text": [
            "Features identified by LASSO for model buidling:  ['arpu_7', 'roam_ic_mou_7', 'roam_ic_mou_8', 'roam_og_mou_7', 'roam_og_mou_8', 'loc_og_t2m_mou_8', 'loc_og_t2f_mou_8', 'loc_og_mou_8', 'std_og_t2t_mou_6', 'std_og_t2f_mou_8', 'std_og_mou_6', 'std_og_mou_7', 'spl_og_mou_8', 'og_others_7', 'total_og_mou_7', 'total_og_mou_8', 'loc_ic_t2m_mou_6', 'loc_ic_t2m_mou_8', 'loc_ic_mou_8', 'std_ic_t2t_mou_8', 'total_ic_mou_6', 'total_ic_mou_7', 'total_ic_mou_8', 'spl_ic_mou_8', 'isd_ic_mou_6', 'total_rech_num_7', 'total_rech_num_8', 'total_rech_amt_6', 'max_rech_amt_8', 'last_day_rch_amt_8', 'max_rech_data_8', 'count_rech_2g_8', 'count_rech_3g_6', 'count_rech_3g_7', 'vol_2g_mb_8', 'vol_3g_mb_8', 'monthly_2g_6', 'monthly_2g_7', 'monthly_2g_8', 'sachet_2g_6', 'fb_user_8', 'aon', 'rech_days_left_6', 'rech_days_left_7', 'rech_days_left_8']\n"
          ],
          "name": "stdout"
        }
      ]
    },
    {
      "cell_type": "code",
      "metadata": {
        "colab": {
          "base_uri": "https://localhost:8080/"
        },
        "id": "icXpwtJbPUu_",
        "outputId": "025402db-07ab-467f-d182-3a3d564337f7"
      },
      "source": [
        "X_train_l = X_lasso\n",
        "y_train_l = y_tr\n",
        "\n",
        "print (\"Feature space holds %d observations and %d features\" % X_train_l.shape)\n",
        "print (\"Unique target labels:\", np.unique(y_train_l))"
      ],
      "execution_count": 57,
      "outputs": [
        {
          "output_type": "stream",
          "text": [
            "Feature space holds 37596 observations and 45 features\n",
            "Unique target labels: [0 1]\n"
          ],
          "name": "stdout"
        }
      ]
    },
    {
      "cell_type": "code",
      "metadata": {
        "colab": {
          "base_uri": "https://localhost:8080/"
        },
        "id": "OpmdiHPjPx9M",
        "outputId": "0fe1a3cb-21cc-46b5-947f-34be76e1b989"
      },
      "source": [
        "from sklearn.tree import DecisionTreeClassifier\n",
        "from sklearn import tree\n",
        "\n",
        "\n",
        "# max_depth which is 5 so that we can plot and read the tree.\n",
        "dt_default = DecisionTreeClassifier(max_depth=5)\n",
        "dt_default.fit(X_train_l, y_train_l)\n",
        "\n",
        "\n",
        "# Making predictions\n",
        "X_test = pd.DataFrame(data=X_test).iloc[:, pos]\n",
        "y_pred_default = dt_default.predict(X_test)\n",
        "\n",
        "# Printing classification report\n",
        "print(classification_report(y_test, y_pred_default))"
      ],
      "execution_count": 58,
      "outputs": [
        {
          "output_type": "stream",
          "text": [
            "              precision    recall  f1-score   support\n",
            "\n",
            "           0       0.99      0.86      0.92      8110\n",
            "           1       0.23      0.78      0.35       442\n",
            "\n",
            "    accuracy                           0.85      8552\n",
            "   macro avg       0.61      0.82      0.64      8552\n",
            "weighted avg       0.95      0.85      0.89      8552\n",
            "\n"
          ],
          "name": "stdout"
        }
      ]
    },
    {
      "cell_type": "code",
      "metadata": {
        "colab": {
          "base_uri": "https://localhost:8080/"
        },
        "id": "F9qLI3WhQB9S",
        "outputId": "92c1d5db-44a3-4545-96ec-819a50955ab7"
      },
      "source": [
        "# Printing confusion matrix and accuracy\n",
        "print(confusion_matrix(y_test,y_pred_default))\n",
        "print(round(accuracy_score(y_test,y_pred_default)*100,2))"
      ],
      "execution_count": 59,
      "outputs": [
        {
          "output_type": "stream",
          "text": [
            "[[6957 1153]\n",
            " [  99  343]]\n",
            "85.36\n"
          ],
          "name": "stdout"
        }
      ]
    },
    {
      "cell_type": "code",
      "metadata": {
        "colab": {
          "base_uri": "https://localhost:8080/"
        },
        "id": "0u1XB1RvQGiy",
        "outputId": "19038df7-6d36-4a07-f267-39bd4474ae4c"
      },
      "source": [
        "# Hyperparameter Tuning\n",
        "\n",
        "#tuning max depth\n",
        "\n",
        "from sklearn.model_selection import KFold\n",
        "from sklearn.model_selection import GridSearchCV\n",
        "\n",
        "\n",
        "# specify number of folds for k-fold CV\n",
        "n_folds = 5\n",
        "\n",
        "# parameters to build the model on\n",
        "parameters = {'max_depth': range(1, 40)}\n",
        "\n",
        "# instantiate the model\n",
        "dtree = DecisionTreeClassifier(criterion = \"gini\", \n",
        "                               random_state = 100)\n",
        "\n",
        "# fit tree on training data\n",
        "tree = GridSearchCV(dtree, parameters, \n",
        "                    cv=n_folds, \n",
        "                   scoring=\"accuracy\",return_train_score=True)\n",
        "tree.fit(X_train_l, y_train_l)"
      ],
      "execution_count": 60,
      "outputs": [
        {
          "output_type": "execute_result",
          "data": {
            "text/plain": [
              "GridSearchCV(cv=5, error_score=nan,\n",
              "             estimator=DecisionTreeClassifier(ccp_alpha=0.0, class_weight=None,\n",
              "                                              criterion='gini', max_depth=None,\n",
              "                                              max_features=None,\n",
              "                                              max_leaf_nodes=None,\n",
              "                                              min_impurity_decrease=0.0,\n",
              "                                              min_impurity_split=None,\n",
              "                                              min_samples_leaf=1,\n",
              "                                              min_samples_split=2,\n",
              "                                              min_weight_fraction_leaf=0.0,\n",
              "                                              presort='deprecated',\n",
              "                                              random_state=100,\n",
              "                                              splitter='best'),\n",
              "             iid='deprecated', n_jobs=None,\n",
              "             param_grid={'max_depth': range(1, 40)}, pre_dispatch='2*n_jobs',\n",
              "             refit=True, return_train_score=True, scoring='accuracy',\n",
              "             verbose=0)"
            ]
          },
          "metadata": {
            "tags": []
          },
          "execution_count": 60
        }
      ]
    },
    {
      "cell_type": "code",
      "metadata": {
        "colab": {
          "base_uri": "https://localhost:8080/",
          "height": 309
        },
        "id": "DfpSEWhQQnM2",
        "outputId": "9e34d1eb-6ccc-482e-f8e2-3e022cdc5ecd"
      },
      "source": [
        "# scores of GridSearch CV\n",
        "scores = tree.cv_results_\n",
        "pd.DataFrame(scores).head()"
      ],
      "execution_count": 61,
      "outputs": [
        {
          "output_type": "execute_result",
          "data": {
            "text/html": [
              "<div>\n",
              "<style scoped>\n",
              "    .dataframe tbody tr th:only-of-type {\n",
              "        vertical-align: middle;\n",
              "    }\n",
              "\n",
              "    .dataframe tbody tr th {\n",
              "        vertical-align: top;\n",
              "    }\n",
              "\n",
              "    .dataframe thead th {\n",
              "        text-align: right;\n",
              "    }\n",
              "</style>\n",
              "<table border=\"1\" class=\"dataframe\">\n",
              "  <thead>\n",
              "    <tr style=\"text-align: right;\">\n",
              "      <th></th>\n",
              "      <th>mean_fit_time</th>\n",
              "      <th>std_fit_time</th>\n",
              "      <th>mean_score_time</th>\n",
              "      <th>std_score_time</th>\n",
              "      <th>param_max_depth</th>\n",
              "      <th>params</th>\n",
              "      <th>split0_test_score</th>\n",
              "      <th>split1_test_score</th>\n",
              "      <th>split2_test_score</th>\n",
              "      <th>split3_test_score</th>\n",
              "      <th>split4_test_score</th>\n",
              "      <th>mean_test_score</th>\n",
              "      <th>std_test_score</th>\n",
              "      <th>rank_test_score</th>\n",
              "      <th>split0_train_score</th>\n",
              "      <th>split1_train_score</th>\n",
              "      <th>split2_train_score</th>\n",
              "      <th>split3_train_score</th>\n",
              "      <th>split4_train_score</th>\n",
              "      <th>mean_train_score</th>\n",
              "      <th>std_train_score</th>\n",
              "    </tr>\n",
              "  </thead>\n",
              "  <tbody>\n",
              "    <tr>\n",
              "      <th>0</th>\n",
              "      <td>0.133021</td>\n",
              "      <td>0.003567</td>\n",
              "      <td>0.002349</td>\n",
              "      <td>0.000028</td>\n",
              "      <td>1</td>\n",
              "      <td>{'max_depth': 1}</td>\n",
              "      <td>0.780851</td>\n",
              "      <td>0.799441</td>\n",
              "      <td>0.802500</td>\n",
              "      <td>0.804495</td>\n",
              "      <td>0.805825</td>\n",
              "      <td>0.798623</td>\n",
              "      <td>0.009142</td>\n",
              "      <td>39</td>\n",
              "      <td>0.803066</td>\n",
              "      <td>0.798417</td>\n",
              "      <td>0.797653</td>\n",
              "      <td>0.797154</td>\n",
              "      <td>0.796821</td>\n",
              "      <td>0.798622</td>\n",
              "      <td>0.002286</td>\n",
              "    </tr>\n",
              "    <tr>\n",
              "      <th>1</th>\n",
              "      <td>0.241578</td>\n",
              "      <td>0.004691</td>\n",
              "      <td>0.002505</td>\n",
              "      <td>0.000133</td>\n",
              "      <td>2</td>\n",
              "      <td>{'max_depth': 2}</td>\n",
              "      <td>0.786436</td>\n",
              "      <td>0.812741</td>\n",
              "      <td>0.819790</td>\n",
              "      <td>0.818061</td>\n",
              "      <td>0.819657</td>\n",
              "      <td>0.811337</td>\n",
              "      <td>0.012711</td>\n",
              "      <td>38</td>\n",
              "      <td>0.817595</td>\n",
              "      <td>0.811018</td>\n",
              "      <td>0.809223</td>\n",
              "      <td>0.809688</td>\n",
              "      <td>0.809289</td>\n",
              "      <td>0.811363</td>\n",
              "      <td>0.003183</td>\n",
              "    </tr>\n",
              "    <tr>\n",
              "      <th>2</th>\n",
              "      <td>0.345468</td>\n",
              "      <td>0.004497</td>\n",
              "      <td>0.002424</td>\n",
              "      <td>0.000049</td>\n",
              "      <td>3</td>\n",
              "      <td>{'max_depth': 3}</td>\n",
              "      <td>0.831782</td>\n",
              "      <td>0.855433</td>\n",
              "      <td>0.854901</td>\n",
              "      <td>0.855832</td>\n",
              "      <td>0.859689</td>\n",
              "      <td>0.851527</td>\n",
              "      <td>0.010017</td>\n",
              "      <td>37</td>\n",
              "      <td>0.856663</td>\n",
              "      <td>0.849653</td>\n",
              "      <td>0.850883</td>\n",
              "      <td>0.857898</td>\n",
              "      <td>0.851681</td>\n",
              "      <td>0.853355</td>\n",
              "      <td>0.003293</td>\n",
              "    </tr>\n",
              "    <tr>\n",
              "      <th>3</th>\n",
              "      <td>0.443081</td>\n",
              "      <td>0.003108</td>\n",
              "      <td>0.002456</td>\n",
              "      <td>0.000028</td>\n",
              "      <td>4</td>\n",
              "      <td>{'max_depth': 4}</td>\n",
              "      <td>0.844814</td>\n",
              "      <td>0.872456</td>\n",
              "      <td>0.877111</td>\n",
              "      <td>0.870860</td>\n",
              "      <td>0.877377</td>\n",
              "      <td>0.868524</td>\n",
              "      <td>0.012126</td>\n",
              "      <td>36</td>\n",
              "      <td>0.879971</td>\n",
              "      <td>0.869302</td>\n",
              "      <td>0.871397</td>\n",
              "      <td>0.869169</td>\n",
              "      <td>0.868903</td>\n",
              "      <td>0.871748</td>\n",
              "      <td>0.004206</td>\n",
              "    </tr>\n",
              "    <tr>\n",
              "      <th>4</th>\n",
              "      <td>0.541200</td>\n",
              "      <td>0.006985</td>\n",
              "      <td>0.002494</td>\n",
              "      <td>0.000033</td>\n",
              "      <td>5</td>\n",
              "      <td>{'max_depth': 5}</td>\n",
              "      <td>0.856383</td>\n",
              "      <td>0.882032</td>\n",
              "      <td>0.888682</td>\n",
              "      <td>0.881101</td>\n",
              "      <td>0.887618</td>\n",
              "      <td>0.879163</td>\n",
              "      <td>0.011773</td>\n",
              "      <td>35</td>\n",
              "      <td>0.891874</td>\n",
              "      <td>0.881039</td>\n",
              "      <td>0.880573</td>\n",
              "      <td>0.879044</td>\n",
              "      <td>0.881903</td>\n",
              "      <td>0.882887</td>\n",
              "      <td>0.004589</td>\n",
              "    </tr>\n",
              "  </tbody>\n",
              "</table>\n",
              "</div>"
            ],
            "text/plain": [
              "   mean_fit_time  std_fit_time  ...  mean_train_score  std_train_score\n",
              "0       0.133021      0.003567  ...          0.798622         0.002286\n",
              "1       0.241578      0.004691  ...          0.811363         0.003183\n",
              "2       0.345468      0.004497  ...          0.853355         0.003293\n",
              "3       0.443081      0.003108  ...          0.871748         0.004206\n",
              "4       0.541200      0.006985  ...          0.882887         0.004589\n",
              "\n",
              "[5 rows x 21 columns]"
            ]
          },
          "metadata": {
            "tags": []
          },
          "execution_count": 61
        }
      ]
    },
    {
      "cell_type": "code",
      "metadata": {
        "colab": {
          "base_uri": "https://localhost:8080/",
          "height": 498
        },
        "id": "fwC2YTINQrlw",
        "outputId": "65becb01-0a54-4423-a009-9d0c2dbea800"
      },
      "source": [
        "# plotting accuracies with max_depth\n",
        "plt.figure(figsize = (12,8))\n",
        "plt.plot(scores[\"param_max_depth\"], \n",
        "         scores[\"mean_train_score\"], \n",
        "         label=\"training accuracy\")\n",
        "plt.plot(scores[\"param_max_depth\"], \n",
        "         scores[\"mean_test_score\"], \n",
        "         label=\"test accuracy\")\n",
        "plt.xlabel(\"max_depth\")\n",
        "plt.ylabel(\"Accuracy\")\n",
        "plt.legend()\n",
        "plt.show()"
      ],
      "execution_count": 62,
      "outputs": [
        {
          "output_type": "display_data",
          "data": {
            "image/png": "[encoded data removed]",
            "text/plain": [
              "<Figure size 864x576 with 1 Axes>"
            ]
          },
          "metadata": {
            "tags": [],
            "needs_background": "light"
          }
        }
      ]
    },
    {
      "cell_type": "code",
      "metadata": {
        "colab": {
          "base_uri": "https://localhost:8080/",
          "height": 498
        },
        "id": "0B0Iq8x6Qv0_",
        "outputId": "dcdb0f16-45b3-4503-c803-b63430b3742f"
      },
      "source": [
        "\n",
        "\n",
        "# parameters to build the model on\n",
        "parameters = {'min_samples_split': range(5, 200, 20)}\n",
        "\n",
        "# instantiate the model\n",
        "dtree = DecisionTreeClassifier(criterion = \"gini\", \n",
        "                               random_state = 100)\n",
        "\n",
        "# fit tree on training data\n",
        "tree = GridSearchCV(dtree, parameters, \n",
        "                    cv=n_folds, \n",
        "                   scoring=\"accuracy\",return_train_score=True)\n",
        "tree.fit(X_train_l, y_train_l)\n",
        "\n",
        "scores = tree.cv_results_\n",
        "\n",
        "# plotting accuracies with min_samples_leaf\n",
        "plt.figure(figsize = (12,8))\n",
        "plt.plot(scores[\"param_min_samples_split\"], \n",
        "         scores[\"mean_train_score\"], \n",
        "         label=\"training accuracy\")\n",
        "plt.plot(scores[\"param_min_samples_split\"], \n",
        "         scores[\"mean_test_score\"], \n",
        "         label=\"test accuracy\")\n",
        "plt.xlabel(\"min_samples_split\")\n",
        "plt.ylabel(\"Accuracy\")\n",
        "plt.legend()\n",
        "plt.show()"
      ],
      "execution_count": 63,
      "outputs": [
        {
          "output_type": "display_data",
          "data": {
            "image/png": "[encoded data removed]",
            "text/plain": [
              "<Figure size 864x576 with 1 Axes>"
            ]
          },
          "metadata": {
            "tags": [],
            "needs_background": "light"
          }
        }
      ]
    },
    {
      "cell_type": "code",
      "metadata": {
        "colab": {
          "base_uri": "https://localhost:8080/"
        },
        "id": "JmKZ06daXiRV",
        "outputId": "7abc43d6-1892-4e5c-9895-629fabfa8845"
      },
      "source": [
        "# model with optimal hyperparameters\n",
        "finaltree = DecisionTreeClassifier(criterion = \"gini\", \n",
        "                                  random_state = 100,\n",
        "                                  max_depth=10, \n",
        "                                  min_samples_leaf=50,\n",
        "                                  min_samples_split=50)\n",
        "finaltree.fit(X_train_l, y_train_l)\n",
        "\n"
      ],
      "execution_count": 64,
      "outputs": [
        {
          "output_type": "execute_result",
          "data": {
            "text/plain": [
              "DecisionTreeClassifier(ccp_alpha=0.0, class_weight=None, criterion='gini',\n",
              "                       max_depth=10, max_features=None, max_leaf_nodes=None,\n",
              "                       min_impurity_decrease=0.0, min_impurity_split=None,\n",
              "                       min_samples_leaf=50, min_samples_split=50,\n",
              "                       min_weight_fraction_leaf=0.0, presort='deprecated',\n",
              "                       random_state=100, splitter='best')"
            ]
          },
          "metadata": {
            "tags": []
          },
          "execution_count": 64
        }
      ]
    },
    {
      "cell_type": "code",
      "metadata": {
        "colab": {
          "base_uri": "https://localhost:8080/"
        },
        "id": "f7ylKb8Dj-48",
        "outputId": "93efa5f8-cc72-4dd7-9c0b-c6154e503b26"
      },
      "source": [
        "y_preds=finaltree.predict(X_test)\n",
        "\n",
        "print(\"Decision Tree accuracy with with optimal hyperparameter: {0} %\".format(round(finaltree.score(X_test,y_test)*100,2)))"
      ],
      "execution_count": 65,
      "outputs": [
        {
          "output_type": "stream",
          "text": [
            "Decision Tree accuracy with with optimal hyperparameter: 89.29 %\n"
          ],
          "name": "stdout"
        }
      ]
    },
    {
      "cell_type": "code",
      "metadata": {
        "colab": {
          "base_uri": "https://localhost:8080/"
        },
        "id": "w9h012D9ah37",
        "outputId": "bf944cfc-59ba-4c62-c66a-31bfd478f55e"
      },
      "source": [
        "print(confusion_matrix(y_test,y_preds))"
      ],
      "execution_count": 66,
      "outputs": [
        {
          "output_type": "stream",
          "text": [
            "[[7319  791]\n",
            " [ 125  317]]\n"
          ],
          "name": "stdout"
        }
      ]
    },
    {
      "cell_type": "markdown",
      "metadata": {
        "id": "wv8AecbslnjG"
      },
      "source": [
        "1. As you can see after using optimal hyperparameter and lasso norm on Decision tree we have increased the accuracy to 89  % <br/>\n",
        "2. Only 45 features is used in this model.\n",
        "3. Still there is scope for optimization looking at the confusion matrix"
      ]
    },
    {
      "cell_type": "code",
      "metadata": {
        "colab": {
          "base_uri": "https://localhost:8080/"
        },
        "id": "eV4g2mJLmkdI",
        "outputId": "f1192020-2d88-4480-f912-3b0f0e4661bb"
      },
      "source": [
        "# Using random Forest\n",
        "\n",
        "from sklearn.ensemble import RandomForestClassifier\n",
        "\n",
        "# Running the random forest with default parameters.\n",
        "rfc = RandomForestClassifier()\n",
        "\n",
        "rfc.fit(X_train_l, y_train_l)\n",
        "\n",
        "predictions = rfc.predict(X_test)\n",
        "\n",
        "print(classification_report(y_test,predictions))"
      ],
      "execution_count": 67,
      "outputs": [
        {
          "output_type": "stream",
          "text": [
            "              precision    recall  f1-score   support\n",
            "\n",
            "           0       0.98      0.96      0.97      8110\n",
            "           1       0.46      0.58      0.51       442\n",
            "\n",
            "    accuracy                           0.94      8552\n",
            "   macro avg       0.72      0.77      0.74      8552\n",
            "weighted avg       0.95      0.94      0.95      8552\n",
            "\n"
          ],
          "name": "stdout"
        }
      ]
    },
    {
      "cell_type": "code",
      "metadata": {
        "colab": {
          "base_uri": "https://localhost:8080/"
        },
        "id": "McjV4-Blpthc",
        "outputId": "80b73431-4ed5-4524-8811-b8c6d49c3df7"
      },
      "source": [
        "# Printing confusion matrix\n",
        "print(confusion_matrix(y_test, predictions))\n",
        "\n",
        "print(round(accuracy_score(y_test, predictions)*100,2))"
      ],
      "execution_count": 68,
      "outputs": [
        {
          "output_type": "stream",
          "text": [
            "[[7808  302]\n",
            " [ 185  257]]\n",
            "94.31\n"
          ],
          "name": "stdout"
        }
      ]
    },
    {
      "cell_type": "markdown",
      "metadata": {
        "id": "hJH8L5Wq1Ea_"
      },
      "source": [
        "The accuracy of 94.31 % is decent which why we can stop at this stage but if more fine tuning is needed the following steps can be used."
      ]
    },
    {
      "cell_type": "markdown",
      "metadata": {
        "id": "cA_hdB8MtbEw"
      },
      "source": [
        "The accuracy has increased now from 80% to 94% and the confusion matrix is compatively more stable"
      ]
    },
    {
      "cell_type": "code",
      "metadata": {
        "id": "5_deDWCS0jbe"
      },
      "source": [
        "# this part is commented becuase it takes lot of time to commute the optimal values.\n",
        "# # specify number of folds for k-fold CV\n",
        "# n_folds = 5\n",
        "\n",
        "# # parameters to build the model on\n",
        "# param_grid = {\n",
        "#     'max_depth': [4,8,10],\n",
        "#     'min_samples_leaf': range(100, 400, 200),\n",
        "#     'min_samples_split': range(200, 500, 200),\n",
        "#     'n_estimators': [100,200, 300], \n",
        "#     'max_features': [5, 10,20,30,40,50]\n",
        "# }\n",
        "\n",
        "# # Create a based model\n",
        "# rf = RandomForestClassifier()\n",
        "# # Instantiate the grid search model\n",
        "# grid_search = GridSearchCV(estimator = rf, param_grid = param_grid, \n",
        "#                           cv = 3, n_jobs = -1,verbose = 1)\n",
        "\n",
        "# # fit tree on training data\n",
        "# grid_search.fit(X_train_l, y_train_l)\n",
        "\n",
        "# # scores of GridSearch CV\n",
        "# scores = grid_search.cv_results_\n",
        "# pd.DataFrame(scores).head()\n",
        "\n",
        "# print('We can get accuracy of',grid_search.best_score_,'using',grid_search.best_params_)\n",
        "\n",
        "# model with the best hyperparameters\n",
        "# from sklearn.ensemble import RandomForestClassifier\n",
        "# here the values need to be changed to what is obtained to be optimal from the previous step\n",
        "# rfc = RandomForestClassifier(bootstrap=True,\n",
        "#                              max_depth=10,\n",
        "#                              min_samples_leaf=100, \n",
        "#                              min_samples_split=200,\n",
        "#                              max_features=10,\n",
        "#                              n_estimators=100)\n",
        "\n",
        "# # fit tree on training data\n",
        "# rfc.fit(X_train_l, y_train_l)\n",
        "\n",
        "# predictions = rfc.predict(X_test)\n",
        "\n",
        "# print(classification_report(y_test,predictions))\n",
        "# print(confusion_matrix(y_test,predictions))\n",
        "# print(round(accuracy_score(y_test, predictions)*100,2))"
      ],
      "execution_count": 69,
      "outputs": []
    },
    {
      "cell_type": "code",
      "metadata": {
        "colab": {
          "base_uri": "https://localhost:8080/",
          "height": 1000
        },
        "id": "mKAQgbertZDR",
        "outputId": "1c7ed769-b8ef-4846-a861-c8d00449a503"
      },
      "source": [
        "# Listing of most important variables\n",
        "\n",
        "plt.figure(figsize=(15,40))\n",
        "feat_importances = pd.Series(rfc.feature_importances_, index=lasso_features)\n",
        "feat_importances.nlargest(len(lasso_features)).sort_values().plot(kind='barh', align='center')\n",
        "plt.show()"
      ],
      "execution_count": 70,
      "outputs": [
        {
          "output_type": "display_data",
          "data": {
            "image/png": "[encoded data removed]",
            "text/plain": [
              "<Figure size 1080x2880 with 1 Axes>"
            ]
          },
          "metadata": {
            "tags": [],
            "needs_background": "light"
          }
        }
      ]
    },
    {
      "cell_type": "markdown",
      "metadata": {
        "id": "-xFCInETW3Bg"
      },
      "source": [
        "#Conclusion"
      ]
    },
    {
      "cell_type": "markdown",
      "metadata": {
        "id": "PjDn7_QP5E6o"
      },
      "source": [
        "## **Suggestions based on the data analysis**\n",
        "\n",
        "\n",
        "*   Monitor Customer usage ( both calls and data)\n",
        "*   For customer who shows usage drop in last 3 months offer them good service deals which is hard to decline\n",
        "*   The company needs to pay more attention to the roaming rates.they should provide the good offers to the customer and also improve the roming services for the potential churn customers\n",
        "*   last_day_rch_amt_8 - Lower the last day recharge amount then churn rate will be higher.\n",
        "* max_rech_amt_8 - Need to give attention to the customer whoes Avg max recharge amount has been decreased\n",
        "*   Do consider the imporant variable to make further predictive analysys by making informative reports\n",
        "\n"
      ]
    }
  ]
}